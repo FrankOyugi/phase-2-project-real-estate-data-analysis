{
 "cells": [
  {
   "cell_type": "markdown",
   "metadata": {},
   "source": [
    "## Final Project Submission\n",
    "\n",
    "Please fill out:\n",
    "* Group members: Myra Kadenge, Edmund Nyaribo ,Frank Oyugi, Silvia Gworit\n",
    "* Student pace: full time\n",
    "* Scheduled project review date/time: \n",
    "* Instructor name: Maryann Mwikali\n",
    "* Blog post URL:\n"
   ]
  },
  {
   "cell_type": "markdown",
   "metadata": {},
   "source": [
    "## Overview\n",
    "The real estate market in King County is characterized by its dynamic nature, driven by factors such as population growth, economic trends, and housing demand. The county's diverse geography offers a wide range of housing options, from  townhouses to suburban single-family homes and waterfront properties. The King County Housing Data Set provides information about houses in King County, including their size, location, condition, and other features. The objective of this project is to create multiple regression models that can accurately predict the price of a house.\n",
    "\n",
    "The project is commissioned by a commercial real estate agaency interested in assisting homeowners to buy or sell homes within specific areas. Their main concerns revolve around  obtaining predicted prices for homes in the area based on renovation and further assessing any notable disparities between the actual prices and our model's predicted prices.\n"
   ]
  },
  {
   "cell_type": "markdown",
   "metadata": {},
   "source": [
    "# Business Understanding\n",
    "\n",
    "The primary goal of the client is to create a platform that delivers accurate estimates of house prices which are crucial for both buyers and sellers in King county. To achieve this objective we need to develop a model that can identify the key factors influencing house prices. To effectively train this model the client requires precise and representative data related to the real estate market in king county, including historical sales, current listings, property size, and other relevant features.\n",
    "\n",
    "Once trained successfully the model will be capable of providing accurate estimations of house values based on their features. It can then seamlessly integrate into the platform offering reliable price estimates to both buyers and sellers. \n",
    "\n",
    "This information derived from the model will empower buyers and sellers to make informed decisions regarding property transactions.\n",
    "By leveraging technology to provide a dependable and precise platform for buying and selling houses in king county, the client aims to esgablish themselves as a trusted authority in the local real estate market thus attracting a loyal customer base.\n",
    "\n",
    "QUESTIONS\n",
    "1. What features have the highest correlation to the home price?\n",
    "\n",
    "2. Do home renovations increase the estimated value of the homes?\n",
    "\n",
    "3. What combinations of features is the best fit for price predictions?\n",
    "\n",
    "\n",
    "\n"
   ]
  },
  {
   "cell_type": "markdown",
   "metadata": {},
   "source": [
    "# Data understanding\n",
    "For this project, we will be using the King County House Sales dataset, which contains  20 columns and over 21500 records, covering house sales between May 2014 and May 2015. The data is suitable for the project as it provides relevant information about the features that affect the house prices in King County.\n",
    "\n",
    "The King County House Sales dataset contains the following columns;\n",
    "\n",
    "Price - Sale price (prediction target)\n",
    "\n",
    "bedrooms - Number of bedrooms,\n",
    "\n",
    "bathrooms - Number of bathrooms,\n",
    "\n",
    "sqft_living - Square footage of living space in the home,\n",
    "\n",
    "sqft_lot - Square footage of the lot,\n",
    "\n",
    "floors - Number of floors (levels) in house,\n",
    "\n",
    "view - Quality of view from house,\n",
    "\n",
    "condition - How good the overall condition of the house is. Related to maintenance of house,\n",
    "\n",
    "grade - Overall grade of the house. Related to the construction and design of the house,\n",
    "\n",
    "sqft_above - Square footage of house apart from basement,\n",
    "\n",
    "sqft_basement - Square footage of the basement,\n",
    "\n",
    "yr_built - Year when house was built,\n",
    "\n",
    "yr_renovated - Year when house was renovated,\n",
    "\n",
    "zipcode - ZIP Code used by the United States Postal Service,\n",
    "\n",
    "sqft_living15 - The square footage of interior housing living space for the nearest 15 neighbors,\n",
    "\n",
    "sqft_lot15 - The square footage of the land lots of the nearest 15 neighbors, and\n",
    "\n",
    "sell_yr - Date house was sold.\n",
    "\n",
    " \n",
    "\n",
    "Some limitations of the data that may have implications for the project are:\n",
    "\n",
    "The data may not reflect the current market conditions as it was collected from 2014 to 2015.\n",
    "\n",
    "The data may not capture all the factors that affect the house prices such as the interest rates and the economic situation.\n",
    "\n",
    "The data may have some outliers or errors that need to be handled carefully during the analysis.\n",
    " For example, there is a house with 33 bedrooms which seems unrealistic."
   ]
  },
  {
   "cell_type": "markdown",
   "metadata": {},
   "source": [
    "## Data preparation\n",
    "\n",
    "In our data preparation process, we imported the necessary libraries, loaded the data, then proceeded to clean the data - dealing with null values and transforming the data as needed. Afterward, we visualized the data to identify correlations between the variables"
   ]
  },
  {
   "cell_type": "markdown",
   "metadata": {},
   "source": []
  },
  {
   "cell_type": "code",
   "execution_count": 1,
   "metadata": {},
   "outputs": [],
   "source": [
    "#Importing necessary libraries\n",
    "import pandas as pd\n",
    "import numpy as np\n",
    "import matplotlib.pyplot as plt\n",
    "import seaborn as sns\n",
    "from pandas.api.types import is_numeric_dtype\n",
    "from sklearn.model_selection import train_test_split \n",
    "from sklearn.linear_model import LinearRegression\n",
    "from sklearn.metrics import mean_squared_error, r2_score,  mean_absolute_error\n",
    "import statsmodels.api as sm"
   ]
  },
  {
   "cell_type": "code",
   "execution_count": 2,
   "metadata": {},
   "outputs": [
    {
     "data": {
      "text/html": [
       "<div>\n",
       "<style scoped>\n",
       "    .dataframe tbody tr th:only-of-type {\n",
       "        vertical-align: middle;\n",
       "    }\n",
       "\n",
       "    .dataframe tbody tr th {\n",
       "        vertical-align: top;\n",
       "    }\n",
       "\n",
       "    .dataframe thead th {\n",
       "        text-align: right;\n",
       "    }\n",
       "</style>\n",
       "<table border=\"1\" class=\"dataframe\">\n",
       "  <thead>\n",
       "    <tr style=\"text-align: right;\">\n",
       "      <th></th>\n",
       "      <th>date</th>\n",
       "      <th>price</th>\n",
       "      <th>bedrooms</th>\n",
       "      <th>bathrooms</th>\n",
       "      <th>sqft_living</th>\n",
       "      <th>sqft_lot</th>\n",
       "      <th>floors</th>\n",
       "      <th>waterfront</th>\n",
       "      <th>view</th>\n",
       "      <th>condition</th>\n",
       "      <th>grade</th>\n",
       "      <th>sqft_above</th>\n",
       "      <th>sqft_basement</th>\n",
       "      <th>yr_built</th>\n",
       "      <th>yr_renovated</th>\n",
       "      <th>zipcode</th>\n",
       "      <th>lat</th>\n",
       "      <th>long</th>\n",
       "      <th>sqft_living15</th>\n",
       "      <th>sqft_lot15</th>\n",
       "    </tr>\n",
       "    <tr>\n",
       "      <th>id</th>\n",
       "      <th></th>\n",
       "      <th></th>\n",
       "      <th></th>\n",
       "      <th></th>\n",
       "      <th></th>\n",
       "      <th></th>\n",
       "      <th></th>\n",
       "      <th></th>\n",
       "      <th></th>\n",
       "      <th></th>\n",
       "      <th></th>\n",
       "      <th></th>\n",
       "      <th></th>\n",
       "      <th></th>\n",
       "      <th></th>\n",
       "      <th></th>\n",
       "      <th></th>\n",
       "      <th></th>\n",
       "      <th></th>\n",
       "      <th></th>\n",
       "    </tr>\n",
       "  </thead>\n",
       "  <tbody>\n",
       "    <tr>\n",
       "      <th>7129300520</th>\n",
       "      <td>10/13/2014</td>\n",
       "      <td>221900.0</td>\n",
       "      <td>3</td>\n",
       "      <td>1.00</td>\n",
       "      <td>1180</td>\n",
       "      <td>5650</td>\n",
       "      <td>1.0</td>\n",
       "      <td>NaN</td>\n",
       "      <td>NONE</td>\n",
       "      <td>Average</td>\n",
       "      <td>7 Average</td>\n",
       "      <td>1180</td>\n",
       "      <td>0.0</td>\n",
       "      <td>1955</td>\n",
       "      <td>0.0</td>\n",
       "      <td>98178</td>\n",
       "      <td>47.5112</td>\n",
       "      <td>-122.257</td>\n",
       "      <td>1340</td>\n",
       "      <td>5650</td>\n",
       "    </tr>\n",
       "    <tr>\n",
       "      <th>6414100192</th>\n",
       "      <td>12/9/2014</td>\n",
       "      <td>538000.0</td>\n",
       "      <td>3</td>\n",
       "      <td>2.25</td>\n",
       "      <td>2570</td>\n",
       "      <td>7242</td>\n",
       "      <td>2.0</td>\n",
       "      <td>NO</td>\n",
       "      <td>NONE</td>\n",
       "      <td>Average</td>\n",
       "      <td>7 Average</td>\n",
       "      <td>2170</td>\n",
       "      <td>400.0</td>\n",
       "      <td>1951</td>\n",
       "      <td>1991.0</td>\n",
       "      <td>98125</td>\n",
       "      <td>47.7210</td>\n",
       "      <td>-122.319</td>\n",
       "      <td>1690</td>\n",
       "      <td>7639</td>\n",
       "    </tr>\n",
       "    <tr>\n",
       "      <th>5631500400</th>\n",
       "      <td>2/25/2015</td>\n",
       "      <td>180000.0</td>\n",
       "      <td>2</td>\n",
       "      <td>1.00</td>\n",
       "      <td>770</td>\n",
       "      <td>10000</td>\n",
       "      <td>1.0</td>\n",
       "      <td>NO</td>\n",
       "      <td>NONE</td>\n",
       "      <td>Average</td>\n",
       "      <td>6 Low Average</td>\n",
       "      <td>770</td>\n",
       "      <td>0.0</td>\n",
       "      <td>1933</td>\n",
       "      <td>NaN</td>\n",
       "      <td>98028</td>\n",
       "      <td>47.7379</td>\n",
       "      <td>-122.233</td>\n",
       "      <td>2720</td>\n",
       "      <td>8062</td>\n",
       "    </tr>\n",
       "    <tr>\n",
       "      <th>2487200875</th>\n",
       "      <td>12/9/2014</td>\n",
       "      <td>604000.0</td>\n",
       "      <td>4</td>\n",
       "      <td>3.00</td>\n",
       "      <td>1960</td>\n",
       "      <td>5000</td>\n",
       "      <td>1.0</td>\n",
       "      <td>NO</td>\n",
       "      <td>NONE</td>\n",
       "      <td>Very Good</td>\n",
       "      <td>7 Average</td>\n",
       "      <td>1050</td>\n",
       "      <td>910.0</td>\n",
       "      <td>1965</td>\n",
       "      <td>0.0</td>\n",
       "      <td>98136</td>\n",
       "      <td>47.5208</td>\n",
       "      <td>-122.393</td>\n",
       "      <td>1360</td>\n",
       "      <td>5000</td>\n",
       "    </tr>\n",
       "    <tr>\n",
       "      <th>1954400510</th>\n",
       "      <td>2/18/2015</td>\n",
       "      <td>510000.0</td>\n",
       "      <td>3</td>\n",
       "      <td>2.00</td>\n",
       "      <td>1680</td>\n",
       "      <td>8080</td>\n",
       "      <td>1.0</td>\n",
       "      <td>NO</td>\n",
       "      <td>NONE</td>\n",
       "      <td>Average</td>\n",
       "      <td>8 Good</td>\n",
       "      <td>1680</td>\n",
       "      <td>0.0</td>\n",
       "      <td>1987</td>\n",
       "      <td>0.0</td>\n",
       "      <td>98074</td>\n",
       "      <td>47.6168</td>\n",
       "      <td>-122.045</td>\n",
       "      <td>1800</td>\n",
       "      <td>7503</td>\n",
       "    </tr>\n",
       "  </tbody>\n",
       "</table>\n",
       "</div>"
      ],
      "text/plain": [
       "                  date     price  bedrooms  bathrooms  sqft_living  sqft_lot  \\\n",
       "id                                                                             \n",
       "7129300520  10/13/2014  221900.0         3       1.00         1180      5650   \n",
       "6414100192   12/9/2014  538000.0         3       2.25         2570      7242   \n",
       "5631500400   2/25/2015  180000.0         2       1.00          770     10000   \n",
       "2487200875   12/9/2014  604000.0         4       3.00         1960      5000   \n",
       "1954400510   2/18/2015  510000.0         3       2.00         1680      8080   \n",
       "\n",
       "            floors waterfront  view  condition          grade  sqft_above  \\\n",
       "id                                                                          \n",
       "7129300520     1.0        NaN  NONE    Average      7 Average        1180   \n",
       "6414100192     2.0         NO  NONE    Average      7 Average        2170   \n",
       "5631500400     1.0         NO  NONE    Average  6 Low Average         770   \n",
       "2487200875     1.0         NO  NONE  Very Good      7 Average        1050   \n",
       "1954400510     1.0         NO  NONE    Average         8 Good        1680   \n",
       "\n",
       "           sqft_basement  yr_built  yr_renovated  zipcode      lat     long  \\\n",
       "id                                                                            \n",
       "7129300520           0.0      1955           0.0    98178  47.5112 -122.257   \n",
       "6414100192         400.0      1951        1991.0    98125  47.7210 -122.319   \n",
       "5631500400           0.0      1933           NaN    98028  47.7379 -122.233   \n",
       "2487200875         910.0      1965           0.0    98136  47.5208 -122.393   \n",
       "1954400510           0.0      1987           0.0    98074  47.6168 -122.045   \n",
       "\n",
       "            sqft_living15  sqft_lot15  \n",
       "id                                     \n",
       "7129300520           1340        5650  \n",
       "6414100192           1690        7639  \n",
       "5631500400           2720        8062  \n",
       "2487200875           1360        5000  \n",
       "1954400510           1800        7503  "
      ]
     },
     "execution_count": 2,
     "metadata": {},
     "output_type": "execute_result"
    }
   ],
   "source": [
    "#Loading the dataset\n",
    "data=pd.read_csv('data/kc_house_data.csv', index_col=0)\n",
    "data.head()"
   ]
  },
  {
   "cell_type": "code",
   "execution_count": 3,
   "metadata": {},
   "outputs": [
    {
     "data": {
      "text/html": [
       "<div>\n",
       "<style scoped>\n",
       "    .dataframe tbody tr th:only-of-type {\n",
       "        vertical-align: middle;\n",
       "    }\n",
       "\n",
       "    .dataframe tbody tr th {\n",
       "        vertical-align: top;\n",
       "    }\n",
       "\n",
       "    .dataframe thead th {\n",
       "        text-align: right;\n",
       "    }\n",
       "</style>\n",
       "<table border=\"1\" class=\"dataframe\">\n",
       "  <thead>\n",
       "    <tr style=\"text-align: right;\">\n",
       "      <th></th>\n",
       "      <th>price</th>\n",
       "      <th>bedrooms</th>\n",
       "      <th>bathrooms</th>\n",
       "      <th>sqft_living</th>\n",
       "      <th>sqft_lot</th>\n",
       "      <th>floors</th>\n",
       "      <th>sqft_above</th>\n",
       "      <th>yr_built</th>\n",
       "      <th>yr_renovated</th>\n",
       "      <th>zipcode</th>\n",
       "      <th>lat</th>\n",
       "      <th>long</th>\n",
       "      <th>sqft_living15</th>\n",
       "      <th>sqft_lot15</th>\n",
       "    </tr>\n",
       "  </thead>\n",
       "  <tbody>\n",
       "    <tr>\n",
       "      <th>count</th>\n",
       "      <td>2.159700e+04</td>\n",
       "      <td>21597.000000</td>\n",
       "      <td>21597.000000</td>\n",
       "      <td>21597.000000</td>\n",
       "      <td>2.159700e+04</td>\n",
       "      <td>21597.000000</td>\n",
       "      <td>21597.000000</td>\n",
       "      <td>21597.000000</td>\n",
       "      <td>17755.000000</td>\n",
       "      <td>21597.000000</td>\n",
       "      <td>21597.000000</td>\n",
       "      <td>21597.000000</td>\n",
       "      <td>21597.000000</td>\n",
       "      <td>21597.000000</td>\n",
       "    </tr>\n",
       "    <tr>\n",
       "      <th>mean</th>\n",
       "      <td>5.402966e+05</td>\n",
       "      <td>3.373200</td>\n",
       "      <td>2.115826</td>\n",
       "      <td>2080.321850</td>\n",
       "      <td>1.509941e+04</td>\n",
       "      <td>1.494096</td>\n",
       "      <td>1788.596842</td>\n",
       "      <td>1970.999676</td>\n",
       "      <td>83.636778</td>\n",
       "      <td>98077.951845</td>\n",
       "      <td>47.560093</td>\n",
       "      <td>-122.213982</td>\n",
       "      <td>1986.620318</td>\n",
       "      <td>12758.283512</td>\n",
       "    </tr>\n",
       "    <tr>\n",
       "      <th>std</th>\n",
       "      <td>3.673681e+05</td>\n",
       "      <td>0.926299</td>\n",
       "      <td>0.768984</td>\n",
       "      <td>918.106125</td>\n",
       "      <td>4.141264e+04</td>\n",
       "      <td>0.539683</td>\n",
       "      <td>827.759761</td>\n",
       "      <td>29.375234</td>\n",
       "      <td>399.946414</td>\n",
       "      <td>53.513072</td>\n",
       "      <td>0.138552</td>\n",
       "      <td>0.140724</td>\n",
       "      <td>685.230472</td>\n",
       "      <td>27274.441950</td>\n",
       "    </tr>\n",
       "    <tr>\n",
       "      <th>min</th>\n",
       "      <td>7.800000e+04</td>\n",
       "      <td>1.000000</td>\n",
       "      <td>0.500000</td>\n",
       "      <td>370.000000</td>\n",
       "      <td>5.200000e+02</td>\n",
       "      <td>1.000000</td>\n",
       "      <td>370.000000</td>\n",
       "      <td>1900.000000</td>\n",
       "      <td>0.000000</td>\n",
       "      <td>98001.000000</td>\n",
       "      <td>47.155900</td>\n",
       "      <td>-122.519000</td>\n",
       "      <td>399.000000</td>\n",
       "      <td>651.000000</td>\n",
       "    </tr>\n",
       "    <tr>\n",
       "      <th>25%</th>\n",
       "      <td>3.220000e+05</td>\n",
       "      <td>3.000000</td>\n",
       "      <td>1.750000</td>\n",
       "      <td>1430.000000</td>\n",
       "      <td>5.040000e+03</td>\n",
       "      <td>1.000000</td>\n",
       "      <td>1190.000000</td>\n",
       "      <td>1951.000000</td>\n",
       "      <td>0.000000</td>\n",
       "      <td>98033.000000</td>\n",
       "      <td>47.471100</td>\n",
       "      <td>-122.328000</td>\n",
       "      <td>1490.000000</td>\n",
       "      <td>5100.000000</td>\n",
       "    </tr>\n",
       "    <tr>\n",
       "      <th>50%</th>\n",
       "      <td>4.500000e+05</td>\n",
       "      <td>3.000000</td>\n",
       "      <td>2.250000</td>\n",
       "      <td>1910.000000</td>\n",
       "      <td>7.618000e+03</td>\n",
       "      <td>1.500000</td>\n",
       "      <td>1560.000000</td>\n",
       "      <td>1975.000000</td>\n",
       "      <td>0.000000</td>\n",
       "      <td>98065.000000</td>\n",
       "      <td>47.571800</td>\n",
       "      <td>-122.231000</td>\n",
       "      <td>1840.000000</td>\n",
       "      <td>7620.000000</td>\n",
       "    </tr>\n",
       "    <tr>\n",
       "      <th>75%</th>\n",
       "      <td>6.450000e+05</td>\n",
       "      <td>4.000000</td>\n",
       "      <td>2.500000</td>\n",
       "      <td>2550.000000</td>\n",
       "      <td>1.068500e+04</td>\n",
       "      <td>2.000000</td>\n",
       "      <td>2210.000000</td>\n",
       "      <td>1997.000000</td>\n",
       "      <td>0.000000</td>\n",
       "      <td>98118.000000</td>\n",
       "      <td>47.678000</td>\n",
       "      <td>-122.125000</td>\n",
       "      <td>2360.000000</td>\n",
       "      <td>10083.000000</td>\n",
       "    </tr>\n",
       "    <tr>\n",
       "      <th>max</th>\n",
       "      <td>7.700000e+06</td>\n",
       "      <td>33.000000</td>\n",
       "      <td>8.000000</td>\n",
       "      <td>13540.000000</td>\n",
       "      <td>1.651359e+06</td>\n",
       "      <td>3.500000</td>\n",
       "      <td>9410.000000</td>\n",
       "      <td>2015.000000</td>\n",
       "      <td>2015.000000</td>\n",
       "      <td>98199.000000</td>\n",
       "      <td>47.777600</td>\n",
       "      <td>-121.315000</td>\n",
       "      <td>6210.000000</td>\n",
       "      <td>871200.000000</td>\n",
       "    </tr>\n",
       "  </tbody>\n",
       "</table>\n",
       "</div>"
      ],
      "text/plain": [
       "              price      bedrooms     bathrooms   sqft_living      sqft_lot  \\\n",
       "count  2.159700e+04  21597.000000  21597.000000  21597.000000  2.159700e+04   \n",
       "mean   5.402966e+05      3.373200      2.115826   2080.321850  1.509941e+04   \n",
       "std    3.673681e+05      0.926299      0.768984    918.106125  4.141264e+04   \n",
       "min    7.800000e+04      1.000000      0.500000    370.000000  5.200000e+02   \n",
       "25%    3.220000e+05      3.000000      1.750000   1430.000000  5.040000e+03   \n",
       "50%    4.500000e+05      3.000000      2.250000   1910.000000  7.618000e+03   \n",
       "75%    6.450000e+05      4.000000      2.500000   2550.000000  1.068500e+04   \n",
       "max    7.700000e+06     33.000000      8.000000  13540.000000  1.651359e+06   \n",
       "\n",
       "             floors    sqft_above      yr_built  yr_renovated       zipcode  \\\n",
       "count  21597.000000  21597.000000  21597.000000  17755.000000  21597.000000   \n",
       "mean       1.494096   1788.596842   1970.999676     83.636778  98077.951845   \n",
       "std        0.539683    827.759761     29.375234    399.946414     53.513072   \n",
       "min        1.000000    370.000000   1900.000000      0.000000  98001.000000   \n",
       "25%        1.000000   1190.000000   1951.000000      0.000000  98033.000000   \n",
       "50%        1.500000   1560.000000   1975.000000      0.000000  98065.000000   \n",
       "75%        2.000000   2210.000000   1997.000000      0.000000  98118.000000   \n",
       "max        3.500000   9410.000000   2015.000000   2015.000000  98199.000000   \n",
       "\n",
       "                lat          long  sqft_living15     sqft_lot15  \n",
       "count  21597.000000  21597.000000   21597.000000   21597.000000  \n",
       "mean      47.560093   -122.213982    1986.620318   12758.283512  \n",
       "std        0.138552      0.140724     685.230472   27274.441950  \n",
       "min       47.155900   -122.519000     399.000000     651.000000  \n",
       "25%       47.471100   -122.328000    1490.000000    5100.000000  \n",
       "50%       47.571800   -122.231000    1840.000000    7620.000000  \n",
       "75%       47.678000   -122.125000    2360.000000   10083.000000  \n",
       "max       47.777600   -121.315000    6210.000000  871200.000000  "
      ]
     },
     "execution_count": 3,
     "metadata": {},
     "output_type": "execute_result"
    }
   ],
   "source": [
    "data.describe()"
   ]
  },
  {
   "cell_type": "code",
   "execution_count": 4,
   "metadata": {},
   "outputs": [
    {
     "name": "stdout",
     "output_type": "stream",
     "text": [
      "<class 'pandas.core.frame.DataFrame'>\n",
      "Int64Index: 21597 entries, 7129300520 to 1523300157\n",
      "Data columns (total 20 columns):\n",
      " #   Column         Non-Null Count  Dtype  \n",
      "---  ------         --------------  -----  \n",
      " 0   date           21597 non-null  object \n",
      " 1   price          21597 non-null  float64\n",
      " 2   bedrooms       21597 non-null  int64  \n",
      " 3   bathrooms      21597 non-null  float64\n",
      " 4   sqft_living    21597 non-null  int64  \n",
      " 5   sqft_lot       21597 non-null  int64  \n",
      " 6   floors         21597 non-null  float64\n",
      " 7   waterfront     19221 non-null  object \n",
      " 8   view           21534 non-null  object \n",
      " 9   condition      21597 non-null  object \n",
      " 10  grade          21597 non-null  object \n",
      " 11  sqft_above     21597 non-null  int64  \n",
      " 12  sqft_basement  21597 non-null  object \n",
      " 13  yr_built       21597 non-null  int64  \n",
      " 14  yr_renovated   17755 non-null  float64\n",
      " 15  zipcode        21597 non-null  int64  \n",
      " 16  lat            21597 non-null  float64\n",
      " 17  long           21597 non-null  float64\n",
      " 18  sqft_living15  21597 non-null  int64  \n",
      " 19  sqft_lot15     21597 non-null  int64  \n",
      "dtypes: float64(6), int64(8), object(6)\n",
      "memory usage: 3.5+ MB\n"
     ]
    }
   ],
   "source": [
    "data.info()"
   ]
  },
  {
   "cell_type": "markdown",
   "metadata": {},
   "source": [
    "The dataset has 21597 entries and 20 columns. Most of the columns consist of numerical data which make it suitable for linear regression analysis.\n",
    "The only columns with missing values is the year renovated column, waterfront and view hence we will handle the  missing values later on."
   ]
  },
  {
   "cell_type": "markdown",
   "metadata": {},
   "source": [
    "# Data preprocessing\n",
    "In this section, we will prepare the data for the analysis by converting some of the categorical features such as waterfront into numeric ones. This will allow us to apply mathematical operations and statistical methods on the data.\n",
    "\n",
    "We will also use pandas functions to convert the date feature from string to datetime format and extract only the year of sale. We will create a new column for sell year and drop the original date column.\n",
    "\n",
    "Moreover there will be truncating of the bedrooms column as we cannot have half a bedroom.\n",
    "And lastly handling of missing values if any."
   ]
  },
  {
   "cell_type": "code",
   "execution_count": 5,
   "metadata": {},
   "outputs": [],
   "source": [
    "#Waterfront' column transformation\n",
    "#data['waterfront'].replace(to_replace=['NO', 'YES'], value=[0, 1], inplace=True)\n",
    "data['waterfront'] = data['waterfront'].map({'NO': 0, 'YES': 1}) "
   ]
  },
  {
   "cell_type": "code",
   "execution_count": 6,
   "metadata": {},
   "outputs": [],
   "source": [
    "#Changing the date to date time\n",
    "data['date'] = pd.to_datetime(data['date'])\n",
    "# Extracting only the year from the column Date\n",
    "data.date = data['date'].dt.year\n",
    "\n",
    "# Creating a new column for sell year\n",
    "data['sell_yr'] = pd.to_datetime(data['date'],format='%Y').dt.year\n",
    "data.drop(columns='date', inplace=True)"
   ]
  },
  {
   "cell_type": "code",
   "execution_count": 7,
   "metadata": {},
   "outputs": [],
   "source": [
    "#Drop unnecessary columns to reduce the lneght of interpretation in our model\n",
    "data.drop(columns=[ 'lat', 'long','sqft_lot15', 'zipcode', 'sqft_basement','sqft_living15', 'sqft_above'], inplace=True)"
   ]
  },
  {
   "cell_type": "code",
   "execution_count": 8,
   "metadata": {},
   "outputs": [],
   "source": [
    "# Truncate the bedrooms bathrooms and floors columns as we cannot have 1/2 a bedroom, bathroom or floor.\n",
    "def truncate_columns(data, columns):\n",
    "    \n",
    "    for column in columns:\n",
    "        data[column] = data[column].apply(lambda x: int(x))\n",
    "    \n",
    "    return data\n",
    "\n"
   ]
  },
  {
   "cell_type": "code",
   "execution_count": 9,
   "metadata": {},
   "outputs": [],
   "source": [
    "truncated_data= truncate_columns(data, ['bedrooms', 'bathrooms', 'floors'])\n"
   ]
  },
  {
   "cell_type": "code",
   "execution_count": 10,
   "metadata": {},
   "outputs": [
    {
     "data": {
      "text/html": [
       "<div>\n",
       "<style scoped>\n",
       "    .dataframe tbody tr th:only-of-type {\n",
       "        vertical-align: middle;\n",
       "    }\n",
       "\n",
       "    .dataframe tbody tr th {\n",
       "        vertical-align: top;\n",
       "    }\n",
       "\n",
       "    .dataframe thead th {\n",
       "        text-align: right;\n",
       "    }\n",
       "</style>\n",
       "<table border=\"1\" class=\"dataframe\">\n",
       "  <thead>\n",
       "    <tr style=\"text-align: right;\">\n",
       "      <th></th>\n",
       "      <th>price</th>\n",
       "      <th>bedrooms</th>\n",
       "      <th>bathrooms</th>\n",
       "      <th>sqft_living</th>\n",
       "      <th>sqft_lot</th>\n",
       "      <th>floors</th>\n",
       "      <th>waterfront</th>\n",
       "      <th>view</th>\n",
       "      <th>condition</th>\n",
       "      <th>grade</th>\n",
       "      <th>yr_built</th>\n",
       "      <th>yr_renovated</th>\n",
       "      <th>sell_yr</th>\n",
       "    </tr>\n",
       "    <tr>\n",
       "      <th>id</th>\n",
       "      <th></th>\n",
       "      <th></th>\n",
       "      <th></th>\n",
       "      <th></th>\n",
       "      <th></th>\n",
       "      <th></th>\n",
       "      <th></th>\n",
       "      <th></th>\n",
       "      <th></th>\n",
       "      <th></th>\n",
       "      <th></th>\n",
       "      <th></th>\n",
       "      <th></th>\n",
       "    </tr>\n",
       "  </thead>\n",
       "  <tbody>\n",
       "    <tr>\n",
       "      <th>7129300520</th>\n",
       "      <td>221900.0</td>\n",
       "      <td>3</td>\n",
       "      <td>1</td>\n",
       "      <td>1180</td>\n",
       "      <td>5650</td>\n",
       "      <td>1</td>\n",
       "      <td>NaN</td>\n",
       "      <td>NONE</td>\n",
       "      <td>Average</td>\n",
       "      <td>7 Average</td>\n",
       "      <td>1955</td>\n",
       "      <td>0.0</td>\n",
       "      <td>2014</td>\n",
       "    </tr>\n",
       "    <tr>\n",
       "      <th>6414100192</th>\n",
       "      <td>538000.0</td>\n",
       "      <td>3</td>\n",
       "      <td>2</td>\n",
       "      <td>2570</td>\n",
       "      <td>7242</td>\n",
       "      <td>2</td>\n",
       "      <td>0.0</td>\n",
       "      <td>NONE</td>\n",
       "      <td>Average</td>\n",
       "      <td>7 Average</td>\n",
       "      <td>1951</td>\n",
       "      <td>1991.0</td>\n",
       "      <td>2014</td>\n",
       "    </tr>\n",
       "    <tr>\n",
       "      <th>5631500400</th>\n",
       "      <td>180000.0</td>\n",
       "      <td>2</td>\n",
       "      <td>1</td>\n",
       "      <td>770</td>\n",
       "      <td>10000</td>\n",
       "      <td>1</td>\n",
       "      <td>0.0</td>\n",
       "      <td>NONE</td>\n",
       "      <td>Average</td>\n",
       "      <td>6 Low Average</td>\n",
       "      <td>1933</td>\n",
       "      <td>NaN</td>\n",
       "      <td>2015</td>\n",
       "    </tr>\n",
       "    <tr>\n",
       "      <th>2487200875</th>\n",
       "      <td>604000.0</td>\n",
       "      <td>4</td>\n",
       "      <td>3</td>\n",
       "      <td>1960</td>\n",
       "      <td>5000</td>\n",
       "      <td>1</td>\n",
       "      <td>0.0</td>\n",
       "      <td>NONE</td>\n",
       "      <td>Very Good</td>\n",
       "      <td>7 Average</td>\n",
       "      <td>1965</td>\n",
       "      <td>0.0</td>\n",
       "      <td>2014</td>\n",
       "    </tr>\n",
       "    <tr>\n",
       "      <th>1954400510</th>\n",
       "      <td>510000.0</td>\n",
       "      <td>3</td>\n",
       "      <td>2</td>\n",
       "      <td>1680</td>\n",
       "      <td>8080</td>\n",
       "      <td>1</td>\n",
       "      <td>0.0</td>\n",
       "      <td>NONE</td>\n",
       "      <td>Average</td>\n",
       "      <td>8 Good</td>\n",
       "      <td>1987</td>\n",
       "      <td>0.0</td>\n",
       "      <td>2015</td>\n",
       "    </tr>\n",
       "    <tr>\n",
       "      <th>7237550310</th>\n",
       "      <td>1230000.0</td>\n",
       "      <td>4</td>\n",
       "      <td>4</td>\n",
       "      <td>5420</td>\n",
       "      <td>101930</td>\n",
       "      <td>1</td>\n",
       "      <td>0.0</td>\n",
       "      <td>NONE</td>\n",
       "      <td>Average</td>\n",
       "      <td>11 Excellent</td>\n",
       "      <td>2001</td>\n",
       "      <td>0.0</td>\n",
       "      <td>2014</td>\n",
       "    </tr>\n",
       "    <tr>\n",
       "      <th>1321400060</th>\n",
       "      <td>257500.0</td>\n",
       "      <td>3</td>\n",
       "      <td>2</td>\n",
       "      <td>1715</td>\n",
       "      <td>6819</td>\n",
       "      <td>2</td>\n",
       "      <td>0.0</td>\n",
       "      <td>NONE</td>\n",
       "      <td>Average</td>\n",
       "      <td>7 Average</td>\n",
       "      <td>1995</td>\n",
       "      <td>0.0</td>\n",
       "      <td>2014</td>\n",
       "    </tr>\n",
       "    <tr>\n",
       "      <th>2008000270</th>\n",
       "      <td>291850.0</td>\n",
       "      <td>3</td>\n",
       "      <td>1</td>\n",
       "      <td>1060</td>\n",
       "      <td>9711</td>\n",
       "      <td>1</td>\n",
       "      <td>0.0</td>\n",
       "      <td>NaN</td>\n",
       "      <td>Average</td>\n",
       "      <td>7 Average</td>\n",
       "      <td>1963</td>\n",
       "      <td>0.0</td>\n",
       "      <td>2015</td>\n",
       "    </tr>\n",
       "    <tr>\n",
       "      <th>2414600126</th>\n",
       "      <td>229500.0</td>\n",
       "      <td>3</td>\n",
       "      <td>1</td>\n",
       "      <td>1780</td>\n",
       "      <td>7470</td>\n",
       "      <td>1</td>\n",
       "      <td>0.0</td>\n",
       "      <td>NONE</td>\n",
       "      <td>Average</td>\n",
       "      <td>7 Average</td>\n",
       "      <td>1960</td>\n",
       "      <td>0.0</td>\n",
       "      <td>2015</td>\n",
       "    </tr>\n",
       "    <tr>\n",
       "      <th>3793500160</th>\n",
       "      <td>323000.0</td>\n",
       "      <td>3</td>\n",
       "      <td>2</td>\n",
       "      <td>1890</td>\n",
       "      <td>6560</td>\n",
       "      <td>2</td>\n",
       "      <td>0.0</td>\n",
       "      <td>NONE</td>\n",
       "      <td>Average</td>\n",
       "      <td>7 Average</td>\n",
       "      <td>2003</td>\n",
       "      <td>0.0</td>\n",
       "      <td>2015</td>\n",
       "    </tr>\n",
       "    <tr>\n",
       "      <th>1736800520</th>\n",
       "      <td>662500.0</td>\n",
       "      <td>3</td>\n",
       "      <td>2</td>\n",
       "      <td>3560</td>\n",
       "      <td>9796</td>\n",
       "      <td>1</td>\n",
       "      <td>NaN</td>\n",
       "      <td>NONE</td>\n",
       "      <td>Average</td>\n",
       "      <td>8 Good</td>\n",
       "      <td>1965</td>\n",
       "      <td>0.0</td>\n",
       "      <td>2015</td>\n",
       "    </tr>\n",
       "    <tr>\n",
       "      <th>9212900260</th>\n",
       "      <td>468000.0</td>\n",
       "      <td>2</td>\n",
       "      <td>1</td>\n",
       "      <td>1160</td>\n",
       "      <td>6000</td>\n",
       "      <td>1</td>\n",
       "      <td>0.0</td>\n",
       "      <td>NONE</td>\n",
       "      <td>Good</td>\n",
       "      <td>7 Average</td>\n",
       "      <td>1942</td>\n",
       "      <td>0.0</td>\n",
       "      <td>2014</td>\n",
       "    </tr>\n",
       "    <tr>\n",
       "      <th>114101516</th>\n",
       "      <td>310000.0</td>\n",
       "      <td>3</td>\n",
       "      <td>1</td>\n",
       "      <td>1430</td>\n",
       "      <td>19901</td>\n",
       "      <td>1</td>\n",
       "      <td>0.0</td>\n",
       "      <td>NONE</td>\n",
       "      <td>Good</td>\n",
       "      <td>7 Average</td>\n",
       "      <td>1927</td>\n",
       "      <td>NaN</td>\n",
       "      <td>2014</td>\n",
       "    </tr>\n",
       "    <tr>\n",
       "      <th>6054650070</th>\n",
       "      <td>400000.0</td>\n",
       "      <td>3</td>\n",
       "      <td>1</td>\n",
       "      <td>1370</td>\n",
       "      <td>9680</td>\n",
       "      <td>1</td>\n",
       "      <td>0.0</td>\n",
       "      <td>NONE</td>\n",
       "      <td>Good</td>\n",
       "      <td>7 Average</td>\n",
       "      <td>1977</td>\n",
       "      <td>0.0</td>\n",
       "      <td>2014</td>\n",
       "    </tr>\n",
       "    <tr>\n",
       "      <th>1175000570</th>\n",
       "      <td>530000.0</td>\n",
       "      <td>5</td>\n",
       "      <td>2</td>\n",
       "      <td>1810</td>\n",
       "      <td>4850</td>\n",
       "      <td>1</td>\n",
       "      <td>0.0</td>\n",
       "      <td>NONE</td>\n",
       "      <td>Average</td>\n",
       "      <td>7 Average</td>\n",
       "      <td>1900</td>\n",
       "      <td>0.0</td>\n",
       "      <td>2015</td>\n",
       "    </tr>\n",
       "    <tr>\n",
       "      <th>9297300055</th>\n",
       "      <td>650000.0</td>\n",
       "      <td>4</td>\n",
       "      <td>3</td>\n",
       "      <td>2950</td>\n",
       "      <td>5000</td>\n",
       "      <td>2</td>\n",
       "      <td>0.0</td>\n",
       "      <td>GOOD</td>\n",
       "      <td>Average</td>\n",
       "      <td>9 Better</td>\n",
       "      <td>1979</td>\n",
       "      <td>0.0</td>\n",
       "      <td>2015</td>\n",
       "    </tr>\n",
       "    <tr>\n",
       "      <th>1875500060</th>\n",
       "      <td>395000.0</td>\n",
       "      <td>3</td>\n",
       "      <td>2</td>\n",
       "      <td>1890</td>\n",
       "      <td>14040</td>\n",
       "      <td>2</td>\n",
       "      <td>0.0</td>\n",
       "      <td>NONE</td>\n",
       "      <td>Average</td>\n",
       "      <td>7 Average</td>\n",
       "      <td>1994</td>\n",
       "      <td>0.0</td>\n",
       "      <td>2014</td>\n",
       "    </tr>\n",
       "    <tr>\n",
       "      <th>6865200140</th>\n",
       "      <td>485000.0</td>\n",
       "      <td>4</td>\n",
       "      <td>1</td>\n",
       "      <td>1600</td>\n",
       "      <td>4300</td>\n",
       "      <td>1</td>\n",
       "      <td>0.0</td>\n",
       "      <td>NONE</td>\n",
       "      <td>Good</td>\n",
       "      <td>7 Average</td>\n",
       "      <td>1916</td>\n",
       "      <td>0.0</td>\n",
       "      <td>2014</td>\n",
       "    </tr>\n",
       "    <tr>\n",
       "      <th>16000397</th>\n",
       "      <td>189000.0</td>\n",
       "      <td>2</td>\n",
       "      <td>1</td>\n",
       "      <td>1200</td>\n",
       "      <td>9850</td>\n",
       "      <td>1</td>\n",
       "      <td>0.0</td>\n",
       "      <td>NONE</td>\n",
       "      <td>Good</td>\n",
       "      <td>7 Average</td>\n",
       "      <td>1921</td>\n",
       "      <td>0.0</td>\n",
       "      <td>2014</td>\n",
       "    </tr>\n",
       "    <tr>\n",
       "      <th>7983200060</th>\n",
       "      <td>230000.0</td>\n",
       "      <td>3</td>\n",
       "      <td>1</td>\n",
       "      <td>1250</td>\n",
       "      <td>9774</td>\n",
       "      <td>1</td>\n",
       "      <td>0.0</td>\n",
       "      <td>NONE</td>\n",
       "      <td>Good</td>\n",
       "      <td>7 Average</td>\n",
       "      <td>1969</td>\n",
       "      <td>0.0</td>\n",
       "      <td>2015</td>\n",
       "    </tr>\n",
       "  </tbody>\n",
       "</table>\n",
       "</div>"
      ],
      "text/plain": [
       "                price  bedrooms  bathrooms  sqft_living  sqft_lot  floors  \\\n",
       "id                                                                          \n",
       "7129300520   221900.0         3          1         1180      5650       1   \n",
       "6414100192   538000.0         3          2         2570      7242       2   \n",
       "5631500400   180000.0         2          1          770     10000       1   \n",
       "2487200875   604000.0         4          3         1960      5000       1   \n",
       "1954400510   510000.0         3          2         1680      8080       1   \n",
       "7237550310  1230000.0         4          4         5420    101930       1   \n",
       "1321400060   257500.0         3          2         1715      6819       2   \n",
       "2008000270   291850.0         3          1         1060      9711       1   \n",
       "2414600126   229500.0         3          1         1780      7470       1   \n",
       "3793500160   323000.0         3          2         1890      6560       2   \n",
       "1736800520   662500.0         3          2         3560      9796       1   \n",
       "9212900260   468000.0         2          1         1160      6000       1   \n",
       "114101516    310000.0         3          1         1430     19901       1   \n",
       "6054650070   400000.0         3          1         1370      9680       1   \n",
       "1175000570   530000.0         5          2         1810      4850       1   \n",
       "9297300055   650000.0         4          3         2950      5000       2   \n",
       "1875500060   395000.0         3          2         1890     14040       2   \n",
       "6865200140   485000.0         4          1         1600      4300       1   \n",
       "16000397     189000.0         2          1         1200      9850       1   \n",
       "7983200060   230000.0         3          1         1250      9774       1   \n",
       "\n",
       "            waterfront  view  condition          grade  yr_built  \\\n",
       "id                                                                 \n",
       "7129300520         NaN  NONE    Average      7 Average      1955   \n",
       "6414100192         0.0  NONE    Average      7 Average      1951   \n",
       "5631500400         0.0  NONE    Average  6 Low Average      1933   \n",
       "2487200875         0.0  NONE  Very Good      7 Average      1965   \n",
       "1954400510         0.0  NONE    Average         8 Good      1987   \n",
       "7237550310         0.0  NONE    Average   11 Excellent      2001   \n",
       "1321400060         0.0  NONE    Average      7 Average      1995   \n",
       "2008000270         0.0   NaN    Average      7 Average      1963   \n",
       "2414600126         0.0  NONE    Average      7 Average      1960   \n",
       "3793500160         0.0  NONE    Average      7 Average      2003   \n",
       "1736800520         NaN  NONE    Average         8 Good      1965   \n",
       "9212900260         0.0  NONE       Good      7 Average      1942   \n",
       "114101516          0.0  NONE       Good      7 Average      1927   \n",
       "6054650070         0.0  NONE       Good      7 Average      1977   \n",
       "1175000570         0.0  NONE    Average      7 Average      1900   \n",
       "9297300055         0.0  GOOD    Average       9 Better      1979   \n",
       "1875500060         0.0  NONE    Average      7 Average      1994   \n",
       "6865200140         0.0  NONE       Good      7 Average      1916   \n",
       "16000397           0.0  NONE       Good      7 Average      1921   \n",
       "7983200060         0.0  NONE       Good      7 Average      1969   \n",
       "\n",
       "            yr_renovated  sell_yr  \n",
       "id                                 \n",
       "7129300520           0.0     2014  \n",
       "6414100192        1991.0     2014  \n",
       "5631500400           NaN     2015  \n",
       "2487200875           0.0     2014  \n",
       "1954400510           0.0     2015  \n",
       "7237550310           0.0     2014  \n",
       "1321400060           0.0     2014  \n",
       "2008000270           0.0     2015  \n",
       "2414600126           0.0     2015  \n",
       "3793500160           0.0     2015  \n",
       "1736800520           0.0     2015  \n",
       "9212900260           0.0     2014  \n",
       "114101516            NaN     2014  \n",
       "6054650070           0.0     2014  \n",
       "1175000570           0.0     2015  \n",
       "9297300055           0.0     2015  \n",
       "1875500060           0.0     2014  \n",
       "6865200140           0.0     2014  \n",
       "16000397             0.0     2014  \n",
       "7983200060           0.0     2015  "
      ]
     },
     "execution_count": 10,
     "metadata": {},
     "output_type": "execute_result"
    }
   ],
   "source": [
    "data.head(20)"
   ]
  },
  {
   "cell_type": "code",
   "execution_count": 11,
   "metadata": {},
   "outputs": [],
   "source": [
    "# Function for removing the Digits in the grade values\n",
    "def extract_grade_desc(s):\n",
    "    grade_desc = ''\n",
    "    for char in s:\n",
    "        if not char.isdigit() and char != ' ':\n",
    "            grade_desc += char\n",
    "    return grade_desc.strip()\n",
    "\n",
    "data['grade'] = data['grade'].apply(lambda x: extract_grade_desc(x))"
   ]
  },
  {
   "cell_type": "markdown",
   "metadata": {},
   "source": [
    "## Handling missing values\n",
    "In this section, we will check the percentage of missing values in each column of the data and handle them accordingly.\n",
    "\n",
    "\n",
    "\n"
   ]
  },
  {
   "cell_type": "code",
   "execution_count": 12,
   "metadata": {},
   "outputs": [],
   "source": [
    "#Check for missing values in a DataFrame and return a Data Frameshowing the percentage of missing values for each column.\n",
    "    \n",
    "def check_missing_values(data):\n",
    "    \n",
    "    # Check for missing values\n",
    "    missing_values = (data.isnull().sum())/len(data) * 100\n",
    "    \n",
    "    # Create a DataFrame to display the count of missing values\n",
    "    missing_df = pd.DataFrame({'Missing Values': missing_values})\n",
    "    \n",
    "    return missing_df\n",
    "missing_df = check_missing_values(data)\n"
   ]
  },
  {
   "cell_type": "code",
   "execution_count": 13,
   "metadata": {},
   "outputs": [
    {
     "data": {
      "text/html": [
       "<div>\n",
       "<style scoped>\n",
       "    .dataframe tbody tr th:only-of-type {\n",
       "        vertical-align: middle;\n",
       "    }\n",
       "\n",
       "    .dataframe tbody tr th {\n",
       "        vertical-align: top;\n",
       "    }\n",
       "\n",
       "    .dataframe thead th {\n",
       "        text-align: right;\n",
       "    }\n",
       "</style>\n",
       "<table border=\"1\" class=\"dataframe\">\n",
       "  <thead>\n",
       "    <tr style=\"text-align: right;\">\n",
       "      <th></th>\n",
       "      <th>Missing Values</th>\n",
       "    </tr>\n",
       "  </thead>\n",
       "  <tbody>\n",
       "    <tr>\n",
       "      <th>price</th>\n",
       "      <td>0.000000</td>\n",
       "    </tr>\n",
       "    <tr>\n",
       "      <th>bedrooms</th>\n",
       "      <td>0.000000</td>\n",
       "    </tr>\n",
       "    <tr>\n",
       "      <th>bathrooms</th>\n",
       "      <td>0.000000</td>\n",
       "    </tr>\n",
       "    <tr>\n",
       "      <th>sqft_living</th>\n",
       "      <td>0.000000</td>\n",
       "    </tr>\n",
       "    <tr>\n",
       "      <th>sqft_lot</th>\n",
       "      <td>0.000000</td>\n",
       "    </tr>\n",
       "    <tr>\n",
       "      <th>floors</th>\n",
       "      <td>0.000000</td>\n",
       "    </tr>\n",
       "    <tr>\n",
       "      <th>waterfront</th>\n",
       "      <td>11.001528</td>\n",
       "    </tr>\n",
       "    <tr>\n",
       "      <th>view</th>\n",
       "      <td>0.291707</td>\n",
       "    </tr>\n",
       "    <tr>\n",
       "      <th>condition</th>\n",
       "      <td>0.000000</td>\n",
       "    </tr>\n",
       "    <tr>\n",
       "      <th>grade</th>\n",
       "      <td>0.000000</td>\n",
       "    </tr>\n",
       "    <tr>\n",
       "      <th>yr_built</th>\n",
       "      <td>0.000000</td>\n",
       "    </tr>\n",
       "    <tr>\n",
       "      <th>yr_renovated</th>\n",
       "      <td>17.789508</td>\n",
       "    </tr>\n",
       "    <tr>\n",
       "      <th>sell_yr</th>\n",
       "      <td>0.000000</td>\n",
       "    </tr>\n",
       "  </tbody>\n",
       "</table>\n",
       "</div>"
      ],
      "text/plain": [
       "              Missing Values\n",
       "price               0.000000\n",
       "bedrooms            0.000000\n",
       "bathrooms           0.000000\n",
       "sqft_living         0.000000\n",
       "sqft_lot            0.000000\n",
       "floors              0.000000\n",
       "waterfront         11.001528\n",
       "view                0.291707\n",
       "condition           0.000000\n",
       "grade               0.000000\n",
       "yr_built            0.000000\n",
       "yr_renovated       17.789508\n",
       "sell_yr             0.000000"
      ]
     },
     "execution_count": 13,
     "metadata": {},
     "output_type": "execute_result"
    }
   ],
   "source": [
    "missing_df \n"
   ]
  },
  {
   "cell_type": "markdown",
   "metadata": {},
   "source": [
    "The percentages of misisng values are not too high. "
   ]
  },
  {
   "cell_type": "code",
   "execution_count": 14,
   "metadata": {},
   "outputs": [],
   "source": [
    "#Fill missing values of view with median and waterfront with 0\n",
    "data['waterfront'].fillna(0, inplace=True)\n",
    "\n",
    "#drop remaing misisng values in other columns\n",
    "data.dropna(axis=0, inplace=True)\n"
   ]
  },
  {
   "cell_type": "code",
   "execution_count": 15,
   "metadata": {},
   "outputs": [
    {
     "name": "stdout",
     "output_type": "stream",
     "text": [
      "<class 'pandas.core.frame.DataFrame'>\n",
      "Int64Index: 17704 entries, 7129300520 to 1523300157\n",
      "Data columns (total 13 columns):\n",
      " #   Column        Non-Null Count  Dtype  \n",
      "---  ------        --------------  -----  \n",
      " 0   price         17704 non-null  float64\n",
      " 1   bedrooms      17704 non-null  int64  \n",
      " 2   bathrooms     17704 non-null  int64  \n",
      " 3   sqft_living   17704 non-null  int64  \n",
      " 4   sqft_lot      17704 non-null  int64  \n",
      " 5   floors        17704 non-null  int64  \n",
      " 6   waterfront    17704 non-null  float64\n",
      " 7   view          17704 non-null  object \n",
      " 8   condition     17704 non-null  object \n",
      " 9   grade         17704 non-null  object \n",
      " 10  yr_built      17704 non-null  int64  \n",
      " 11  yr_renovated  17704 non-null  float64\n",
      " 12  sell_yr       17704 non-null  int64  \n",
      "dtypes: float64(3), int64(7), object(3)\n",
      "memory usage: 1.9+ MB\n"
     ]
    }
   ],
   "source": [
    "data.info()"
   ]
  },
  {
   "cell_type": "markdown",
   "metadata": {},
   "source": [
    "We chose to fill in the missing values of waterfront since it has the highest percentage. We filled in the missing values with 0 meaning the houses are not on waterfronts because if we drop the rows we would end up working with about 15000 entries of data which would be a huge decrease of data from having 21597 entries of data."
   ]
  },
  {
   "cell_type": "code",
   "execution_count": 16,
   "metadata": {
    "scrolled": true
   },
   "outputs": [
    {
     "data": {
      "text/html": [
       "<div>\n",
       "<style scoped>\n",
       "    .dataframe tbody tr th:only-of-type {\n",
       "        vertical-align: middle;\n",
       "    }\n",
       "\n",
       "    .dataframe tbody tr th {\n",
       "        vertical-align: top;\n",
       "    }\n",
       "\n",
       "    .dataframe thead th {\n",
       "        text-align: right;\n",
       "    }\n",
       "</style>\n",
       "<table border=\"1\" class=\"dataframe\">\n",
       "  <thead>\n",
       "    <tr style=\"text-align: right;\">\n",
       "      <th></th>\n",
       "      <th>price</th>\n",
       "      <th>bedrooms</th>\n",
       "      <th>bathrooms</th>\n",
       "      <th>sqft_living</th>\n",
       "      <th>sqft_lot</th>\n",
       "      <th>floors</th>\n",
       "      <th>waterfront</th>\n",
       "      <th>view</th>\n",
       "      <th>condition</th>\n",
       "      <th>grade</th>\n",
       "      <th>yr_built</th>\n",
       "      <th>yr_renovated</th>\n",
       "      <th>sell_yr</th>\n",
       "    </tr>\n",
       "    <tr>\n",
       "      <th>id</th>\n",
       "      <th></th>\n",
       "      <th></th>\n",
       "      <th></th>\n",
       "      <th></th>\n",
       "      <th></th>\n",
       "      <th></th>\n",
       "      <th></th>\n",
       "      <th></th>\n",
       "      <th></th>\n",
       "      <th></th>\n",
       "      <th></th>\n",
       "      <th></th>\n",
       "      <th></th>\n",
       "    </tr>\n",
       "  </thead>\n",
       "  <tbody>\n",
       "    <tr>\n",
       "      <th>7129300520</th>\n",
       "      <td>221900.0</td>\n",
       "      <td>3</td>\n",
       "      <td>1</td>\n",
       "      <td>1180</td>\n",
       "      <td>5650</td>\n",
       "      <td>1</td>\n",
       "      <td>0.0</td>\n",
       "      <td>NONE</td>\n",
       "      <td>Average</td>\n",
       "      <td>Average</td>\n",
       "      <td>1955</td>\n",
       "      <td>0.0</td>\n",
       "      <td>2014</td>\n",
       "    </tr>\n",
       "    <tr>\n",
       "      <th>6414100192</th>\n",
       "      <td>538000.0</td>\n",
       "      <td>3</td>\n",
       "      <td>2</td>\n",
       "      <td>2570</td>\n",
       "      <td>7242</td>\n",
       "      <td>2</td>\n",
       "      <td>0.0</td>\n",
       "      <td>NONE</td>\n",
       "      <td>Average</td>\n",
       "      <td>Average</td>\n",
       "      <td>1951</td>\n",
       "      <td>1991.0</td>\n",
       "      <td>2014</td>\n",
       "    </tr>\n",
       "    <tr>\n",
       "      <th>2487200875</th>\n",
       "      <td>604000.0</td>\n",
       "      <td>4</td>\n",
       "      <td>3</td>\n",
       "      <td>1960</td>\n",
       "      <td>5000</td>\n",
       "      <td>1</td>\n",
       "      <td>0.0</td>\n",
       "      <td>NONE</td>\n",
       "      <td>Very Good</td>\n",
       "      <td>Average</td>\n",
       "      <td>1965</td>\n",
       "      <td>0.0</td>\n",
       "      <td>2014</td>\n",
       "    </tr>\n",
       "    <tr>\n",
       "      <th>1954400510</th>\n",
       "      <td>510000.0</td>\n",
       "      <td>3</td>\n",
       "      <td>2</td>\n",
       "      <td>1680</td>\n",
       "      <td>8080</td>\n",
       "      <td>1</td>\n",
       "      <td>0.0</td>\n",
       "      <td>NONE</td>\n",
       "      <td>Average</td>\n",
       "      <td>Good</td>\n",
       "      <td>1987</td>\n",
       "      <td>0.0</td>\n",
       "      <td>2015</td>\n",
       "    </tr>\n",
       "    <tr>\n",
       "      <th>7237550310</th>\n",
       "      <td>1230000.0</td>\n",
       "      <td>4</td>\n",
       "      <td>4</td>\n",
       "      <td>5420</td>\n",
       "      <td>101930</td>\n",
       "      <td>1</td>\n",
       "      <td>0.0</td>\n",
       "      <td>NONE</td>\n",
       "      <td>Average</td>\n",
       "      <td>Excellent</td>\n",
       "      <td>2001</td>\n",
       "      <td>0.0</td>\n",
       "      <td>2014</td>\n",
       "    </tr>\n",
       "    <tr>\n",
       "      <th>1321400060</th>\n",
       "      <td>257500.0</td>\n",
       "      <td>3</td>\n",
       "      <td>2</td>\n",
       "      <td>1715</td>\n",
       "      <td>6819</td>\n",
       "      <td>2</td>\n",
       "      <td>0.0</td>\n",
       "      <td>NONE</td>\n",
       "      <td>Average</td>\n",
       "      <td>Average</td>\n",
       "      <td>1995</td>\n",
       "      <td>0.0</td>\n",
       "      <td>2014</td>\n",
       "    </tr>\n",
       "    <tr>\n",
       "      <th>2414600126</th>\n",
       "      <td>229500.0</td>\n",
       "      <td>3</td>\n",
       "      <td>1</td>\n",
       "      <td>1780</td>\n",
       "      <td>7470</td>\n",
       "      <td>1</td>\n",
       "      <td>0.0</td>\n",
       "      <td>NONE</td>\n",
       "      <td>Average</td>\n",
       "      <td>Average</td>\n",
       "      <td>1960</td>\n",
       "      <td>0.0</td>\n",
       "      <td>2015</td>\n",
       "    </tr>\n",
       "    <tr>\n",
       "      <th>3793500160</th>\n",
       "      <td>323000.0</td>\n",
       "      <td>3</td>\n",
       "      <td>2</td>\n",
       "      <td>1890</td>\n",
       "      <td>6560</td>\n",
       "      <td>2</td>\n",
       "      <td>0.0</td>\n",
       "      <td>NONE</td>\n",
       "      <td>Average</td>\n",
       "      <td>Average</td>\n",
       "      <td>2003</td>\n",
       "      <td>0.0</td>\n",
       "      <td>2015</td>\n",
       "    </tr>\n",
       "    <tr>\n",
       "      <th>1736800520</th>\n",
       "      <td>662500.0</td>\n",
       "      <td>3</td>\n",
       "      <td>2</td>\n",
       "      <td>3560</td>\n",
       "      <td>9796</td>\n",
       "      <td>1</td>\n",
       "      <td>0.0</td>\n",
       "      <td>NONE</td>\n",
       "      <td>Average</td>\n",
       "      <td>Good</td>\n",
       "      <td>1965</td>\n",
       "      <td>0.0</td>\n",
       "      <td>2015</td>\n",
       "    </tr>\n",
       "    <tr>\n",
       "      <th>9212900260</th>\n",
       "      <td>468000.0</td>\n",
       "      <td>2</td>\n",
       "      <td>1</td>\n",
       "      <td>1160</td>\n",
       "      <td>6000</td>\n",
       "      <td>1</td>\n",
       "      <td>0.0</td>\n",
       "      <td>NONE</td>\n",
       "      <td>Good</td>\n",
       "      <td>Average</td>\n",
       "      <td>1942</td>\n",
       "      <td>0.0</td>\n",
       "      <td>2014</td>\n",
       "    </tr>\n",
       "    <tr>\n",
       "      <th>6054650070</th>\n",
       "      <td>400000.0</td>\n",
       "      <td>3</td>\n",
       "      <td>1</td>\n",
       "      <td>1370</td>\n",
       "      <td>9680</td>\n",
       "      <td>1</td>\n",
       "      <td>0.0</td>\n",
       "      <td>NONE</td>\n",
       "      <td>Good</td>\n",
       "      <td>Average</td>\n",
       "      <td>1977</td>\n",
       "      <td>0.0</td>\n",
       "      <td>2014</td>\n",
       "    </tr>\n",
       "    <tr>\n",
       "      <th>1175000570</th>\n",
       "      <td>530000.0</td>\n",
       "      <td>5</td>\n",
       "      <td>2</td>\n",
       "      <td>1810</td>\n",
       "      <td>4850</td>\n",
       "      <td>1</td>\n",
       "      <td>0.0</td>\n",
       "      <td>NONE</td>\n",
       "      <td>Average</td>\n",
       "      <td>Average</td>\n",
       "      <td>1900</td>\n",
       "      <td>0.0</td>\n",
       "      <td>2015</td>\n",
       "    </tr>\n",
       "    <tr>\n",
       "      <th>9297300055</th>\n",
       "      <td>650000.0</td>\n",
       "      <td>4</td>\n",
       "      <td>3</td>\n",
       "      <td>2950</td>\n",
       "      <td>5000</td>\n",
       "      <td>2</td>\n",
       "      <td>0.0</td>\n",
       "      <td>GOOD</td>\n",
       "      <td>Average</td>\n",
       "      <td>Better</td>\n",
       "      <td>1979</td>\n",
       "      <td>0.0</td>\n",
       "      <td>2015</td>\n",
       "    </tr>\n",
       "    <tr>\n",
       "      <th>1875500060</th>\n",
       "      <td>395000.0</td>\n",
       "      <td>3</td>\n",
       "      <td>2</td>\n",
       "      <td>1890</td>\n",
       "      <td>14040</td>\n",
       "      <td>2</td>\n",
       "      <td>0.0</td>\n",
       "      <td>NONE</td>\n",
       "      <td>Average</td>\n",
       "      <td>Average</td>\n",
       "      <td>1994</td>\n",
       "      <td>0.0</td>\n",
       "      <td>2014</td>\n",
       "    </tr>\n",
       "    <tr>\n",
       "      <th>6865200140</th>\n",
       "      <td>485000.0</td>\n",
       "      <td>4</td>\n",
       "      <td>1</td>\n",
       "      <td>1600</td>\n",
       "      <td>4300</td>\n",
       "      <td>1</td>\n",
       "      <td>0.0</td>\n",
       "      <td>NONE</td>\n",
       "      <td>Good</td>\n",
       "      <td>Average</td>\n",
       "      <td>1916</td>\n",
       "      <td>0.0</td>\n",
       "      <td>2014</td>\n",
       "    </tr>\n",
       "    <tr>\n",
       "      <th>16000397</th>\n",
       "      <td>189000.0</td>\n",
       "      <td>2</td>\n",
       "      <td>1</td>\n",
       "      <td>1200</td>\n",
       "      <td>9850</td>\n",
       "      <td>1</td>\n",
       "      <td>0.0</td>\n",
       "      <td>NONE</td>\n",
       "      <td>Good</td>\n",
       "      <td>Average</td>\n",
       "      <td>1921</td>\n",
       "      <td>0.0</td>\n",
       "      <td>2014</td>\n",
       "    </tr>\n",
       "    <tr>\n",
       "      <th>7983200060</th>\n",
       "      <td>230000.0</td>\n",
       "      <td>3</td>\n",
       "      <td>1</td>\n",
       "      <td>1250</td>\n",
       "      <td>9774</td>\n",
       "      <td>1</td>\n",
       "      <td>0.0</td>\n",
       "      <td>NONE</td>\n",
       "      <td>Good</td>\n",
       "      <td>Average</td>\n",
       "      <td>1969</td>\n",
       "      <td>0.0</td>\n",
       "      <td>2015</td>\n",
       "    </tr>\n",
       "    <tr>\n",
       "      <th>6300500875</th>\n",
       "      <td>385000.0</td>\n",
       "      <td>4</td>\n",
       "      <td>1</td>\n",
       "      <td>1620</td>\n",
       "      <td>4980</td>\n",
       "      <td>1</td>\n",
       "      <td>0.0</td>\n",
       "      <td>NONE</td>\n",
       "      <td>Good</td>\n",
       "      <td>Average</td>\n",
       "      <td>1947</td>\n",
       "      <td>0.0</td>\n",
       "      <td>2014</td>\n",
       "    </tr>\n",
       "    <tr>\n",
       "      <th>2524049179</th>\n",
       "      <td>2000000.0</td>\n",
       "      <td>3</td>\n",
       "      <td>2</td>\n",
       "      <td>3050</td>\n",
       "      <td>44867</td>\n",
       "      <td>1</td>\n",
       "      <td>0.0</td>\n",
       "      <td>EXCELLENT</td>\n",
       "      <td>Average</td>\n",
       "      <td>Better</td>\n",
       "      <td>1968</td>\n",
       "      <td>0.0</td>\n",
       "      <td>2014</td>\n",
       "    </tr>\n",
       "    <tr>\n",
       "      <th>7137970340</th>\n",
       "      <td>285000.0</td>\n",
       "      <td>5</td>\n",
       "      <td>2</td>\n",
       "      <td>2270</td>\n",
       "      <td>6300</td>\n",
       "      <td>2</td>\n",
       "      <td>0.0</td>\n",
       "      <td>NONE</td>\n",
       "      <td>Average</td>\n",
       "      <td>Good</td>\n",
       "      <td>1995</td>\n",
       "      <td>0.0</td>\n",
       "      <td>2014</td>\n",
       "    </tr>\n",
       "  </tbody>\n",
       "</table>\n",
       "</div>"
      ],
      "text/plain": [
       "                price  bedrooms  bathrooms  sqft_living  sqft_lot  floors  \\\n",
       "id                                                                          \n",
       "7129300520   221900.0         3          1         1180      5650       1   \n",
       "6414100192   538000.0         3          2         2570      7242       2   \n",
       "2487200875   604000.0         4          3         1960      5000       1   \n",
       "1954400510   510000.0         3          2         1680      8080       1   \n",
       "7237550310  1230000.0         4          4         5420    101930       1   \n",
       "1321400060   257500.0         3          2         1715      6819       2   \n",
       "2414600126   229500.0         3          1         1780      7470       1   \n",
       "3793500160   323000.0         3          2         1890      6560       2   \n",
       "1736800520   662500.0         3          2         3560      9796       1   \n",
       "9212900260   468000.0         2          1         1160      6000       1   \n",
       "6054650070   400000.0         3          1         1370      9680       1   \n",
       "1175000570   530000.0         5          2         1810      4850       1   \n",
       "9297300055   650000.0         4          3         2950      5000       2   \n",
       "1875500060   395000.0         3          2         1890     14040       2   \n",
       "6865200140   485000.0         4          1         1600      4300       1   \n",
       "16000397     189000.0         2          1         1200      9850       1   \n",
       "7983200060   230000.0         3          1         1250      9774       1   \n",
       "6300500875   385000.0         4          1         1620      4980       1   \n",
       "2524049179  2000000.0         3          2         3050     44867       1   \n",
       "7137970340   285000.0         5          2         2270      6300       2   \n",
       "\n",
       "            waterfront       view  condition      grade  yr_built  \\\n",
       "id                                                                  \n",
       "7129300520         0.0       NONE    Average    Average      1955   \n",
       "6414100192         0.0       NONE    Average    Average      1951   \n",
       "2487200875         0.0       NONE  Very Good    Average      1965   \n",
       "1954400510         0.0       NONE    Average       Good      1987   \n",
       "7237550310         0.0       NONE    Average  Excellent      2001   \n",
       "1321400060         0.0       NONE    Average    Average      1995   \n",
       "2414600126         0.0       NONE    Average    Average      1960   \n",
       "3793500160         0.0       NONE    Average    Average      2003   \n",
       "1736800520         0.0       NONE    Average       Good      1965   \n",
       "9212900260         0.0       NONE       Good    Average      1942   \n",
       "6054650070         0.0       NONE       Good    Average      1977   \n",
       "1175000570         0.0       NONE    Average    Average      1900   \n",
       "9297300055         0.0       GOOD    Average     Better      1979   \n",
       "1875500060         0.0       NONE    Average    Average      1994   \n",
       "6865200140         0.0       NONE       Good    Average      1916   \n",
       "16000397           0.0       NONE       Good    Average      1921   \n",
       "7983200060         0.0       NONE       Good    Average      1969   \n",
       "6300500875         0.0       NONE       Good    Average      1947   \n",
       "2524049179         0.0  EXCELLENT    Average     Better      1968   \n",
       "7137970340         0.0       NONE    Average       Good      1995   \n",
       "\n",
       "            yr_renovated  sell_yr  \n",
       "id                                 \n",
       "7129300520           0.0     2014  \n",
       "6414100192        1991.0     2014  \n",
       "2487200875           0.0     2014  \n",
       "1954400510           0.0     2015  \n",
       "7237550310           0.0     2014  \n",
       "1321400060           0.0     2014  \n",
       "2414600126           0.0     2015  \n",
       "3793500160           0.0     2015  \n",
       "1736800520           0.0     2015  \n",
       "9212900260           0.0     2014  \n",
       "6054650070           0.0     2014  \n",
       "1175000570           0.0     2015  \n",
       "9297300055           0.0     2015  \n",
       "1875500060           0.0     2014  \n",
       "6865200140           0.0     2014  \n",
       "16000397             0.0     2014  \n",
       "7983200060           0.0     2015  \n",
       "6300500875           0.0     2014  \n",
       "2524049179           0.0     2014  \n",
       "7137970340           0.0     2014  "
      ]
     },
     "execution_count": 16,
     "metadata": {},
     "output_type": "execute_result"
    }
   ],
   "source": [
    "data.head(20)"
   ]
  },
  {
   "cell_type": "markdown",
   "metadata": {},
   "source": [
    "## Data Exploration"
   ]
  },
  {
   "cell_type": "markdown",
   "metadata": {},
   "source": [
    "This is the phase in the EDA(Exploratory Data Analysis) process where we examine summary statistics,visualize distributions and identify correlations between variables.Additionally we can also perform a linearity check at this stage.\n"
   ]
  },
  {
   "cell_type": "markdown",
   "metadata": {},
   "source": [
    "### List Of Columns"
   ]
  },
  {
   "cell_type": "code",
   "execution_count": 17,
   "metadata": {},
   "outputs": [
    {
     "name": "stdout",
     "output_type": "stream",
     "text": [
      "price\n",
      "bedrooms\n",
      "bathrooms\n",
      "sqft_living\n",
      "sqft_lot\n",
      "floors\n",
      "waterfront\n",
      "view\n",
      "condition\n",
      "grade\n",
      "yr_built\n",
      "yr_renovated\n",
      "sell_yr\n"
     ]
    }
   ],
   "source": [
    "columns_list = data.columns.tolist()\n",
    "for column_name in columns_list:\n",
    "    print(column_name)"
   ]
  },
  {
   "cell_type": "markdown",
   "metadata": {},
   "source": [
    "### List Of Numerical Columns"
   ]
  },
  {
   "cell_type": "code",
   "execution_count": 18,
   "metadata": {},
   "outputs": [
    {
     "name": "stdout",
     "output_type": "stream",
     "text": [
      "['price', 'bedrooms', 'bathrooms', 'sqft_living', 'sqft_lot', 'floors']\n"
     ]
    }
   ],
   "source": [
    "numerical_columns = data.select_dtypes(include=['number']).columns.tolist()\n",
    "columns_to_exclude = ['waterfront','yr_built','yr_renovated','sell_yr']\n",
    "\n",
    "for column_to_exclude in columns_to_exclude:\n",
    "    if column_to_exclude in numerical_columns:\n",
    "        numerical_columns.remove(column_to_exclude)\n",
    "print(numerical_columns)"
   ]
  },
  {
   "cell_type": "markdown",
   "metadata": {},
   "source": [
    "## Linearity Check"
   ]
  },
  {
   "cell_type": "markdown",
   "metadata": {},
   "source": [
    "We check for linearity in order to determine which idependent variables have a linear relationship with the target variable,which is the price.This is important beacause when performing linear regression,the linearity assumption must be satisfied and cannot be violated.If this assumption is violated,the model may fail to accurately capture the true relationship between the variables."
   ]
  },
  {
   "cell_type": "code",
   "execution_count": 19,
   "metadata": {},
   "outputs": [
    {
     "data": {
      "image/png": "[encoded data removed]",
      "text/plain": [
       "<Figure size 432x288 with 1 Axes>"
      ]
     },
     "metadata": {
      "needs_background": "light"
     },
     "output_type": "display_data"
    },
    {
     "data": {
      "image/png": "[encoded data removed]",
      "text/plain": [
       "<Figure size 432x288 with 1 Axes>"
      ]
     },
     "metadata": {
      "needs_background": "light"
     },
     "output_type": "display_data"
    },
    {
     "data": {
      "image/png": "[encoded data removed]",
      "text/plain": [
       "<Figure size 432x288 with 1 Axes>"
      ]
     },
     "metadata": {
      "needs_background": "light"
     },
     "output_type": "display_data"
    },
    {
     "data": {
      "image/png": "[encoded data removed]",
      "text/plain": [
       "<Figure size 432x288 with 1 Axes>"
      ]
     },
     "metadata": {
      "needs_background": "light"
     },
     "output_type": "display_data"
    },
    {
     "data": {
      "image/png": "[encoded data removed]",
      "text/plain": [
       "<Figure size 432x288 with 1 Axes>"
      ]
     },
     "metadata": {
      "needs_background": "light"
     },
     "output_type": "display_data"
    },
    {
     "data": {
      "image/png": "[encoded data removed]",
      "text/plain": [
       "<Figure size 432x288 with 1 Axes>"
      ]
     },
     "metadata": {
      "needs_background": "light"
     },
     "output_type": "display_data"
    }
   ],
   "source": [
    "for column in numerical_columns:\n",
    "    # Create scatter plot using Seaborn\n",
    "    sns.scatterplot(x=column, y='price', data=data)\n",
    "    \n",
    "    # Label axes and title\n",
    "    plt.xlabel(column)\n",
    "    plt.ylabel('price')\n",
    "    plt.title(f'Scatter plot for linearity check of {column} and price')\n",
    "    \n",
    "    # Display plot\n",
    "    plt.show()\n"
   ]
  },
  {
   "cell_type": "markdown",
   "metadata": {},
   "source": [
    "From the above scatter plots,we can see that there is a linear relationship between 'price' and 'sqft_living'.The other relationships are discontiuous."
   ]
  },
  {
   "cell_type": "markdown",
   "metadata": {},
   "source": [
    "## Correlation Check"
   ]
  },
  {
   "cell_type": "markdown",
   "metadata": {},
   "source": [
    "Correlation checks are performed during data exploration to understand the relationship between the variables.Correlation analysis helps to identify the presence and stregth of the relationships between the variables.Uderstanding these relationships will be crucial for gaining insights into the underlying structure of the data.We can also use coreelation analysis to detect multicollinearity between variables."
   ]
  },
  {
   "cell_type": "code",
   "execution_count": 20,
   "metadata": {},
   "outputs": [
    {
     "data": {
      "image/png": "[encoded data removed]",
      "text/plain": [
       "<Figure size 432x288 with 2 Axes>"
      ]
     },
     "metadata": {
      "needs_background": "light"
     },
     "output_type": "display_data"
    },
    {
     "data": {
      "image/png": "[encoded data removed]",
      "text/plain": [
       "<Figure size 432x288 with 2 Axes>"
      ]
     },
     "metadata": {
      "needs_background": "light"
     },
     "output_type": "display_data"
    },
    {
     "data": {
      "image/png": "[encoded data removed]",
      "text/plain": [
       "<Figure size 432x288 with 2 Axes>"
      ]
     },
     "metadata": {
      "needs_background": "light"
     },
     "output_type": "display_data"
    },
    {
     "data": {
      "image/png": "[encoded data removed]",
      "text/plain": [
       "<Figure size 432x288 with 2 Axes>"
      ]
     },
     "metadata": {
      "needs_background": "light"
     },
     "output_type": "display_data"
    },
    {
     "data": {
      "image/png": "[encoded data removed]",
      "text/plain": [
       "<Figure size 432x288 with 2 Axes>"
      ]
     },
     "metadata": {
      "needs_background": "light"
     },
     "output_type": "display_data"
    },
    {
     "data": {
      "image/png": "[encoded data removed]",
      "text/plain": [
       "<Figure size 432x288 with 2 Axes>"
      ]
     },
     "metadata": {
      "needs_background": "light"
     },
     "output_type": "display_data"
    }
   ],
   "source": [
    "for column in numerical_columns:\n",
    "    #create heatmaps\n",
    "    sns.heatmap(data[[column,'price']].corr(), annot=True, cmap='coolwarm', fmt=\".2f\")\n",
    "    #Label axes and title\n",
    "    plt.xlabel(column)\n",
    "    plt.ylabel('price')\n",
    "    plt.title(f'Heatmap showing correlation of {column} and price')\n",
    "    #Display heatmap\n",
    "    plt.show()"
   ]
  },
  {
   "cell_type": "markdown",
   "metadata": {},
   "source": [
    "From the heatmaps above,we can conclude that there is a positive corelation relationship between all numerical independent variables and the target variable,which is the price.This means that if any of these independent variables increases,the price will also increase.While all these relationships are positive,it is important to note that 'sqft_living' has the strongest positive relationship with 'price',meaning it can be a good predictor for it and 'sqft_lot' has the weakest postive relationship with 'price'"
   ]
  },
  {
   "cell_type": "markdown",
   "metadata": {},
   "source": [
    "## Frequency Distribution"
   ]
  },
  {
   "cell_type": "markdown",
   "metadata": {},
   "source": [
    "Frequency distribution refers to a table or graph the count of each distinct value or range of values in a dataset.It summarizes the distribution pf values in a dataset by showing how often each value occurs.We can represent this using a histogram."
   ]
  },
  {
   "cell_type": "code",
   "execution_count": 21,
   "metadata": {},
   "outputs": [
    {
     "data": {
      "image/png": "[encoded data removed]",
      "text/plain": [
       "<Figure size 432x288 with 1 Axes>"
      ]
     },
     "metadata": {
      "needs_background": "light"
     },
     "output_type": "display_data"
    },
    {
     "data": {
      "image/png": "[encoded data removed]",
      "text/plain": [
       "<Figure size 432x288 with 1 Axes>"
      ]
     },
     "metadata": {
      "needs_background": "light"
     },
     "output_type": "display_data"
    },
    {
     "data": {
      "image/png": "[encoded data removed]",
      "text/plain": [
       "<Figure size 432x288 with 1 Axes>"
      ]
     },
     "metadata": {
      "needs_background": "light"
     },
     "output_type": "display_data"
    },
    {
     "data": {
      "image/png": "[encoded data removed]",
      "text/plain": [
       "<Figure size 432x288 with 1 Axes>"
      ]
     },
     "metadata": {
      "needs_background": "light"
     },
     "output_type": "display_data"
    },
    {
     "data": {
      "image/png": "[encoded data removed]",
      "text/plain": [
       "<Figure size 432x288 with 1 Axes>"
      ]
     },
     "metadata": {
      "needs_background": "light"
     },
     "output_type": "display_data"
    },
    {
     "data": {
      "image/png": "[encoded data removed]",
      "text/plain": [
       "<Figure size 432x288 with 1 Axes>"
      ]
     },
     "metadata": {
      "needs_background": "light"
     },
     "output_type": "display_data"
    }
   ],
   "source": [
    "import seaborn as sns\n",
    "import matplotlib.pyplot as plt\n",
    "\n",
    "for i, column in enumerate(numerical_columns):\n",
    "    # Set the ranges\n",
    "    if i == 0:\n",
    "        range_min = 0\n",
    "        range_max = 2000000\n",
    "    elif i in [1, 2, 5]:\n",
    "        range_min = 0\n",
    "        range_max = 5\n",
    "    elif i == 3:\n",
    "        range_min = 0\n",
    "        range_max = 8000\n",
    "    elif i == 4:\n",
    "        range_min = 0\n",
    "        range_max = 20000\n",
    "    \n",
    "    # Create histogram using Seaborn\n",
    "    sns.histplot(data=data, x=column, bins=4, binrange=(range_min, range_max), color='lightblue', edgecolor='black')\n",
    "    \n",
    "    # Label title and axes\n",
    "    plt.xlabel(column)\n",
    "    plt.ylabel('Frequency')\n",
    "    plt.title(f'Histogram Showing Frequency Distribution of {column}')\n",
    "    \n",
    "    # Display histogram\n",
    "    plt.show()\n"
   ]
  },
  {
   "cell_type": "markdown",
   "metadata": {},
   "source": [
    "From the above histogram plots,we can make some conclusions:  \n",
    "1.Most houses cost between 200,000 and 500,000.  \n",
    "2.Most houses have 3 bedrooms and 3 bathrooms.  \n",
    "3.Most houses have about 1,000 square feet for living.  \n",
    "4.Most houses have a lot square feet of 5,000 to 10,000 feet."
   ]
  },
  {
   "cell_type": "markdown",
   "metadata": {},
   "source": [
    "# Categorical Data Analysis"
   ]
  },
  {
   "cell_type": "markdown",
   "metadata": {},
   "source": [
    "Categorical data is data that represents groups or categories.They are often represented using labels or strings rather than numerical values.Analyzing categorical data involves summarizing the frequency,comparing distributions and identifying patterns or associations.We can analyze categorical data using bar charts,which are graphical representations which display the frequency,proportion or count of each category using rectangular bars.We can also show how categorical variables relate to numerical variables using bar charts.In this dataset,we can see'condition','waterfront','view' and 'grade' as the columns representing categorical data."
   ]
  },
  {
   "cell_type": "code",
   "execution_count": 22,
   "metadata": {},
   "outputs": [
    {
     "data": {
      "image/png": "[encoded data removed]",
      "text/plain": [
       "<Figure size 576x432 with 1 Axes>"
      ]
     },
     "metadata": {},
     "output_type": "display_data"
    },
    {
     "data": {
      "image/png": "[encoded data removed]",
      "text/plain": [
       "<Figure size 576x432 with 1 Axes>"
      ]
     },
     "metadata": {},
     "output_type": "display_data"
    },
    {
     "data": {
      "image/png": "[encoded data removed]",
      "text/plain": [
       "<Figure size 576x432 with 1 Axes>"
      ]
     },
     "metadata": {},
     "output_type": "display_data"
    },
    {
     "data": {
      "image/png": "[encoded data removed]",
      "text/plain": [
       "<Figure size 576x432 with 1 Axes>"
      ]
     },
     "metadata": {},
     "output_type": "display_data"
    }
   ],
   "source": [
    "categorical_columns = ['waterfront', 'view', 'condition', 'grade']\n",
    "\n",
    "#Set the Style\n",
    "sns.set(style=\"whitegrid\")\n",
    "\n",
    "# Iterate over each categorical column\n",
    "for column in categorical_columns:\n",
    "    plt.figure(figsize=(8, 6))\n",
    "    \n",
    "    # create the bar chart\n",
    "    sns.countplot(x=column, data=data, palette=\"pastel\")\n",
    "    \n",
    "    # Label axes and title\n",
    "    plt.xlabel(column)\n",
    "    plt.ylabel('Count')\n",
    "    plt.title(f'Bar chart showing frequency count of {column}')\n",
    "    plt.xticks(rotation=45, ha='right')\n",
    "    # Display the bar chart\n",
    "    plt.show()\n"
   ]
  },
  {
   "cell_type": "markdown",
   "metadata": {},
   "source": [
    "Looking at the bar charts above,we can make some observations:  \n",
    "1.The chances of finding a house with a waterfront are almost zero.  \n",
    "2.Most houses do not have a view.  \n",
    "3.Most of the houses have an average grade and condition.  \n",
    "4.Mansions are scarce in number."
   ]
  },
  {
   "cell_type": "markdown",
   "metadata": {},
   "source": [
    "### Relationship between grade and price"
   ]
  },
  {
   "cell_type": "code",
   "execution_count": 23,
   "metadata": {},
   "outputs": [
    {
     "data": {
      "image/png": "[encoded data removed]",
      "text/plain": [
       "<Figure size 576x432 with 1 Axes>"
      ]
     },
     "metadata": {},
     "output_type": "display_data"
    }
   ],
   "source": [
    "plt.figure(figsize=(8, 6))\n",
    "\n",
    "# create the bar plot\n",
    "sns.barplot(x='grade', y='price', data=data, ci=None)\n",
    "# Set the x-axis label\n",
    "plt.xlabel('Grade')\n",
    "# Set the y-axis label\n",
    "plt.ylabel('Average price')\n",
    "# Set the title of the plot\n",
    "plt.title('Grade vs Prices')\n",
    "#Fix Overlapping\n",
    "plt.xticks(rotation=45, ha='right')\n",
    "# Display the plot\n",
    "plt.show()\n"
   ]
  },
  {
   "cell_type": "markdown",
   "metadata": {},
   "source": [
    "From the bar chart above,we can conclude that mansions fetch the highest prices while houses of poor or low grades fetch the lowest prices."
   ]
  },
  {
   "cell_type": "markdown",
   "metadata": {},
   "source": [
    "### Relationship between condition and price"
   ]
  },
  {
   "cell_type": "code",
   "execution_count": 24,
   "metadata": {},
   "outputs": [
    {
     "data": {
      "image/png": "[encoded data removed]",
      "text/plain": [
       "<Figure size 576x432 with 1 Axes>"
      ]
     },
     "metadata": {},
     "output_type": "display_data"
    }
   ],
   "source": [
    "plt.figure(figsize=(8, 6)) \n",
    "\n",
    "# create the bar plot\n",
    "sns.barplot(x='condition', y='price', data=data, ci=None)\n",
    "# Set the x-axis label\n",
    "plt.xlabel('Condition')\n",
    "# Set the y-axis label\n",
    "plt.ylabel('Average price')\n",
    "# Set the title of the plot\n",
    "plt.title('Condition vs Prices')\n",
    "#Fix Overlapping\n",
    "plt.xticks(rotation=45, ha='right')\n",
    "# Display the plot\n",
    "plt.show()\n"
   ]
  },
  {
   "cell_type": "markdown",
   "metadata": {},
   "source": [
    "We can conclude that houses with in very good conditions fetch the highest prices while houses in poor or fair conditions are the cheapest."
   ]
  },
  {
   "cell_type": "markdown",
   "metadata": {},
   "source": [
    "### Relationship between waterfront and price"
   ]
  },
  {
   "cell_type": "code",
   "execution_count": 25,
   "metadata": {},
   "outputs": [
    {
     "data": {
      "image/png": "[encoded data removed]",
      "text/plain": [
       "<Figure size 576x432 with 1 Axes>"
      ]
     },
     "metadata": {},
     "output_type": "display_data"
    }
   ],
   "source": [
    "plt.figure(figsize=(8, 6))  # Set the figure size to (8, 6)\n",
    "\n",
    "# create the bar plot\n",
    "sns.barplot(x='waterfront', y='price', data=data, ci=None)\n",
    "# Set the x-axis label\n",
    "plt.xlabel('Waterfront')\n",
    "# Set the y-axis label\n",
    "plt.ylabel('Average price')\n",
    "# Set the title of the plot\n",
    "plt.title('Waterfront vs Prices')\n",
    "#Fix Overlapping\n",
    "plt.xticks(ticks=[0,1],labels=['Waterfront','No Waterfront'],rotation=45, ha='right')\n",
    "# Display the plot\n",
    "plt.show()\n"
   ]
  },
  {
   "cell_type": "markdown",
   "metadata": {},
   "source": [
    "From the bar graph above,we can observe that houses without a waterfront sell for higher prices."
   ]
  },
  {
   "cell_type": "markdown",
   "metadata": {},
   "source": [
    "### Relationship between view and price"
   ]
  },
  {
   "cell_type": "code",
   "execution_count": 26,
   "metadata": {},
   "outputs": [
    {
     "data": {
      "image/png": "[encoded data removed]",
      "text/plain": [
       "<Figure size 576x432 with 1 Axes>"
      ]
     },
     "metadata": {},
     "output_type": "display_data"
    }
   ],
   "source": [
    "plt.figure(figsize=(8, 6))  # Set the figure size to (8, 6)\n",
    "\n",
    "#create the bar plot\n",
    "sns.barplot(x='view', y='price', data=data, ci=None)\n",
    "# Set the x-axis label\n",
    "plt.xlabel('Grade')\n",
    "# Set the y-axis label\n",
    "plt.ylabel('Average price')\n",
    "# Set the title of the plot\n",
    "plt.title('View vs Prices')\n",
    "#Fix Overlapping\n",
    "plt.xticks(rotation=45, ha='right')\n",
    "# Display the plot\n",
    "plt.show()\n"
   ]
  },
  {
   "cell_type": "markdown",
   "metadata": {},
   "source": [
    "The bar graph above shows that houses with an excellent view are the most expensive and houses without a view are the cheapest."
   ]
  },
  {
   "cell_type": "markdown",
   "metadata": {},
   "source": [
    "## Data Modelling\n"
   ]
  },
  {
   "cell_type": "markdown",
   "metadata": {},
   "source": [
    "## Creating a train/test"
   ]
  },
  {
   "cell_type": "code",
   "execution_count": 27,
   "metadata": {},
   "outputs": [
    {
     "data": {
      "text/html": [
       "<div>\n",
       "<style scoped>\n",
       "    .dataframe tbody tr th:only-of-type {\n",
       "        vertical-align: middle;\n",
       "    }\n",
       "\n",
       "    .dataframe tbody tr th {\n",
       "        vertical-align: top;\n",
       "    }\n",
       "\n",
       "    .dataframe thead th {\n",
       "        text-align: right;\n",
       "    }\n",
       "</style>\n",
       "<table border=\"1\" class=\"dataframe\">\n",
       "  <thead>\n",
       "    <tr style=\"text-align: right;\">\n",
       "      <th></th>\n",
       "      <th>price</th>\n",
       "      <th>bedrooms</th>\n",
       "      <th>bathrooms</th>\n",
       "      <th>sqft_living</th>\n",
       "      <th>sqft_lot</th>\n",
       "      <th>floors</th>\n",
       "      <th>waterfront</th>\n",
       "      <th>view</th>\n",
       "      <th>condition</th>\n",
       "      <th>grade</th>\n",
       "      <th>yr_built</th>\n",
       "      <th>yr_renovated</th>\n",
       "      <th>sell_yr</th>\n",
       "    </tr>\n",
       "    <tr>\n",
       "      <th>id</th>\n",
       "      <th></th>\n",
       "      <th></th>\n",
       "      <th></th>\n",
       "      <th></th>\n",
       "      <th></th>\n",
       "      <th></th>\n",
       "      <th></th>\n",
       "      <th></th>\n",
       "      <th></th>\n",
       "      <th></th>\n",
       "      <th></th>\n",
       "      <th></th>\n",
       "      <th></th>\n",
       "    </tr>\n",
       "  </thead>\n",
       "  <tbody>\n",
       "    <tr>\n",
       "      <th>7129300520</th>\n",
       "      <td>221900.0</td>\n",
       "      <td>3</td>\n",
       "      <td>1</td>\n",
       "      <td>1180</td>\n",
       "      <td>5650</td>\n",
       "      <td>1</td>\n",
       "      <td>0.0</td>\n",
       "      <td>NONE</td>\n",
       "      <td>Average</td>\n",
       "      <td>Average</td>\n",
       "      <td>1955</td>\n",
       "      <td>0.0</td>\n",
       "      <td>2014</td>\n",
       "    </tr>\n",
       "    <tr>\n",
       "      <th>6414100192</th>\n",
       "      <td>538000.0</td>\n",
       "      <td>3</td>\n",
       "      <td>2</td>\n",
       "      <td>2570</td>\n",
       "      <td>7242</td>\n",
       "      <td>2</td>\n",
       "      <td>0.0</td>\n",
       "      <td>NONE</td>\n",
       "      <td>Average</td>\n",
       "      <td>Average</td>\n",
       "      <td>1951</td>\n",
       "      <td>1991.0</td>\n",
       "      <td>2014</td>\n",
       "    </tr>\n",
       "    <tr>\n",
       "      <th>2487200875</th>\n",
       "      <td>604000.0</td>\n",
       "      <td>4</td>\n",
       "      <td>3</td>\n",
       "      <td>1960</td>\n",
       "      <td>5000</td>\n",
       "      <td>1</td>\n",
       "      <td>0.0</td>\n",
       "      <td>NONE</td>\n",
       "      <td>Very Good</td>\n",
       "      <td>Average</td>\n",
       "      <td>1965</td>\n",
       "      <td>0.0</td>\n",
       "      <td>2014</td>\n",
       "    </tr>\n",
       "    <tr>\n",
       "      <th>1954400510</th>\n",
       "      <td>510000.0</td>\n",
       "      <td>3</td>\n",
       "      <td>2</td>\n",
       "      <td>1680</td>\n",
       "      <td>8080</td>\n",
       "      <td>1</td>\n",
       "      <td>0.0</td>\n",
       "      <td>NONE</td>\n",
       "      <td>Average</td>\n",
       "      <td>Good</td>\n",
       "      <td>1987</td>\n",
       "      <td>0.0</td>\n",
       "      <td>2015</td>\n",
       "    </tr>\n",
       "    <tr>\n",
       "      <th>7237550310</th>\n",
       "      <td>1230000.0</td>\n",
       "      <td>4</td>\n",
       "      <td>4</td>\n",
       "      <td>5420</td>\n",
       "      <td>101930</td>\n",
       "      <td>1</td>\n",
       "      <td>0.0</td>\n",
       "      <td>NONE</td>\n",
       "      <td>Average</td>\n",
       "      <td>Excellent</td>\n",
       "      <td>2001</td>\n",
       "      <td>0.0</td>\n",
       "      <td>2014</td>\n",
       "    </tr>\n",
       "  </tbody>\n",
       "</table>\n",
       "</div>"
      ],
      "text/plain": [
       "                price  bedrooms  bathrooms  sqft_living  sqft_lot  floors  \\\n",
       "id                                                                          \n",
       "7129300520   221900.0         3          1         1180      5650       1   \n",
       "6414100192   538000.0         3          2         2570      7242       2   \n",
       "2487200875   604000.0         4          3         1960      5000       1   \n",
       "1954400510   510000.0         3          2         1680      8080       1   \n",
       "7237550310  1230000.0         4          4         5420    101930       1   \n",
       "\n",
       "            waterfront  view  condition      grade  yr_built  yr_renovated  \\\n",
       "id                                                                           \n",
       "7129300520         0.0  NONE    Average    Average      1955           0.0   \n",
       "6414100192         0.0  NONE    Average    Average      1951        1991.0   \n",
       "2487200875         0.0  NONE  Very Good    Average      1965           0.0   \n",
       "1954400510         0.0  NONE    Average       Good      1987           0.0   \n",
       "7237550310         0.0  NONE    Average  Excellent      2001           0.0   \n",
       "\n",
       "            sell_yr  \n",
       "id                   \n",
       "7129300520     2014  \n",
       "6414100192     2014  \n",
       "2487200875     2014  \n",
       "1954400510     2015  \n",
       "7237550310     2014  "
      ]
     },
     "execution_count": 27,
     "metadata": {},
     "output_type": "execute_result"
    }
   ],
   "source": [
    "data.head()"
   ]
  },
  {
   "cell_type": "code",
   "execution_count": 28,
   "metadata": {},
   "outputs": [
    {
     "data": {
      "text/html": [
       "<div>\n",
       "<style scoped>\n",
       "    .dataframe tbody tr th:only-of-type {\n",
       "        vertical-align: middle;\n",
       "    }\n",
       "\n",
       "    .dataframe tbody tr th {\n",
       "        vertical-align: top;\n",
       "    }\n",
       "\n",
       "    .dataframe thead th {\n",
       "        text-align: right;\n",
       "    }\n",
       "</style>\n",
       "<table border=\"1\" class=\"dataframe\">\n",
       "  <thead>\n",
       "    <tr style=\"text-align: right;\">\n",
       "      <th></th>\n",
       "      <th>price</th>\n",
       "      <th>bedrooms</th>\n",
       "      <th>bathrooms</th>\n",
       "      <th>sqft_living</th>\n",
       "      <th>sqft_lot</th>\n",
       "      <th>floors</th>\n",
       "      <th>waterfront</th>\n",
       "      <th>yr_built</th>\n",
       "      <th>yr_renovated</th>\n",
       "      <th>sell_yr</th>\n",
       "      <th>...</th>\n",
       "      <th>grade_Better</th>\n",
       "      <th>grade_Excellent</th>\n",
       "      <th>grade_Fair</th>\n",
       "      <th>grade_Good</th>\n",
       "      <th>grade_Low</th>\n",
       "      <th>grade_LowAverage</th>\n",
       "      <th>grade_Luxury</th>\n",
       "      <th>grade_Mansion</th>\n",
       "      <th>grade_Poor</th>\n",
       "      <th>grade_VeryGood</th>\n",
       "    </tr>\n",
       "    <tr>\n",
       "      <th>id</th>\n",
       "      <th></th>\n",
       "      <th></th>\n",
       "      <th></th>\n",
       "      <th></th>\n",
       "      <th></th>\n",
       "      <th></th>\n",
       "      <th></th>\n",
       "      <th></th>\n",
       "      <th></th>\n",
       "      <th></th>\n",
       "      <th></th>\n",
       "      <th></th>\n",
       "      <th></th>\n",
       "      <th></th>\n",
       "      <th></th>\n",
       "      <th></th>\n",
       "      <th></th>\n",
       "      <th></th>\n",
       "      <th></th>\n",
       "      <th></th>\n",
       "      <th></th>\n",
       "    </tr>\n",
       "  </thead>\n",
       "  <tbody>\n",
       "    <tr>\n",
       "      <th>7129300520</th>\n",
       "      <td>221900.0</td>\n",
       "      <td>3</td>\n",
       "      <td>1</td>\n",
       "      <td>1180</td>\n",
       "      <td>5650</td>\n",
       "      <td>1</td>\n",
       "      <td>0.0</td>\n",
       "      <td>1955</td>\n",
       "      <td>0.0</td>\n",
       "      <td>2014</td>\n",
       "      <td>...</td>\n",
       "      <td>0</td>\n",
       "      <td>0</td>\n",
       "      <td>0</td>\n",
       "      <td>0</td>\n",
       "      <td>0</td>\n",
       "      <td>0</td>\n",
       "      <td>0</td>\n",
       "      <td>0</td>\n",
       "      <td>0</td>\n",
       "      <td>0</td>\n",
       "    </tr>\n",
       "    <tr>\n",
       "      <th>6414100192</th>\n",
       "      <td>538000.0</td>\n",
       "      <td>3</td>\n",
       "      <td>2</td>\n",
       "      <td>2570</td>\n",
       "      <td>7242</td>\n",
       "      <td>2</td>\n",
       "      <td>0.0</td>\n",
       "      <td>1951</td>\n",
       "      <td>1991.0</td>\n",
       "      <td>2014</td>\n",
       "      <td>...</td>\n",
       "      <td>0</td>\n",
       "      <td>0</td>\n",
       "      <td>0</td>\n",
       "      <td>0</td>\n",
       "      <td>0</td>\n",
       "      <td>0</td>\n",
       "      <td>0</td>\n",
       "      <td>0</td>\n",
       "      <td>0</td>\n",
       "      <td>0</td>\n",
       "    </tr>\n",
       "    <tr>\n",
       "      <th>2487200875</th>\n",
       "      <td>604000.0</td>\n",
       "      <td>4</td>\n",
       "      <td>3</td>\n",
       "      <td>1960</td>\n",
       "      <td>5000</td>\n",
       "      <td>1</td>\n",
       "      <td>0.0</td>\n",
       "      <td>1965</td>\n",
       "      <td>0.0</td>\n",
       "      <td>2014</td>\n",
       "      <td>...</td>\n",
       "      <td>0</td>\n",
       "      <td>0</td>\n",
       "      <td>0</td>\n",
       "      <td>0</td>\n",
       "      <td>0</td>\n",
       "      <td>0</td>\n",
       "      <td>0</td>\n",
       "      <td>0</td>\n",
       "      <td>0</td>\n",
       "      <td>0</td>\n",
       "    </tr>\n",
       "    <tr>\n",
       "      <th>1954400510</th>\n",
       "      <td>510000.0</td>\n",
       "      <td>3</td>\n",
       "      <td>2</td>\n",
       "      <td>1680</td>\n",
       "      <td>8080</td>\n",
       "      <td>1</td>\n",
       "      <td>0.0</td>\n",
       "      <td>1987</td>\n",
       "      <td>0.0</td>\n",
       "      <td>2015</td>\n",
       "      <td>...</td>\n",
       "      <td>0</td>\n",
       "      <td>0</td>\n",
       "      <td>0</td>\n",
       "      <td>1</td>\n",
       "      <td>0</td>\n",
       "      <td>0</td>\n",
       "      <td>0</td>\n",
       "      <td>0</td>\n",
       "      <td>0</td>\n",
       "      <td>0</td>\n",
       "    </tr>\n",
       "    <tr>\n",
       "      <th>7237550310</th>\n",
       "      <td>1230000.0</td>\n",
       "      <td>4</td>\n",
       "      <td>4</td>\n",
       "      <td>5420</td>\n",
       "      <td>101930</td>\n",
       "      <td>1</td>\n",
       "      <td>0.0</td>\n",
       "      <td>2001</td>\n",
       "      <td>0.0</td>\n",
       "      <td>2014</td>\n",
       "      <td>...</td>\n",
       "      <td>0</td>\n",
       "      <td>1</td>\n",
       "      <td>0</td>\n",
       "      <td>0</td>\n",
       "      <td>0</td>\n",
       "      <td>0</td>\n",
       "      <td>0</td>\n",
       "      <td>0</td>\n",
       "      <td>0</td>\n",
       "      <td>0</td>\n",
       "    </tr>\n",
       "  </tbody>\n",
       "</table>\n",
       "<p>5 rows × 28 columns</p>\n",
       "</div>"
      ],
      "text/plain": [
       "                price  bedrooms  bathrooms  sqft_living  sqft_lot  floors  \\\n",
       "id                                                                          \n",
       "7129300520   221900.0         3          1         1180      5650       1   \n",
       "6414100192   538000.0         3          2         2570      7242       2   \n",
       "2487200875   604000.0         4          3         1960      5000       1   \n",
       "1954400510   510000.0         3          2         1680      8080       1   \n",
       "7237550310  1230000.0         4          4         5420    101930       1   \n",
       "\n",
       "            waterfront  yr_built  yr_renovated  sell_yr  ...  grade_Better  \\\n",
       "id                                                       ...                 \n",
       "7129300520         0.0      1955           0.0     2014  ...             0   \n",
       "6414100192         0.0      1951        1991.0     2014  ...             0   \n",
       "2487200875         0.0      1965           0.0     2014  ...             0   \n",
       "1954400510         0.0      1987           0.0     2015  ...             0   \n",
       "7237550310         0.0      2001           0.0     2014  ...             0   \n",
       "\n",
       "            grade_Excellent  grade_Fair  grade_Good  grade_Low  \\\n",
       "id                                                               \n",
       "7129300520                0           0           0          0   \n",
       "6414100192                0           0           0          0   \n",
       "2487200875                0           0           0          0   \n",
       "1954400510                0           0           1          0   \n",
       "7237550310                1           0           0          0   \n",
       "\n",
       "            grade_LowAverage  grade_Luxury  grade_Mansion  grade_Poor  \\\n",
       "id                                                                      \n",
       "7129300520                 0             0              0           0   \n",
       "6414100192                 0             0              0           0   \n",
       "2487200875                 0             0              0           0   \n",
       "1954400510                 0             0              0           0   \n",
       "7237550310                 0             0              0           0   \n",
       "\n",
       "            grade_VeryGood  \n",
       "id                          \n",
       "7129300520               0  \n",
       "6414100192               0  \n",
       "2487200875               0  \n",
       "1954400510               0  \n",
       "7237550310               0  \n",
       "\n",
       "[5 rows x 28 columns]"
      ]
     },
     "execution_count": 28,
     "metadata": {},
     "output_type": "execute_result"
    }
   ],
   "source": [
    "df = pd.get_dummies(data, columns=[\"view\", \"condition\" , \"grade\"], drop_first=True, dtype=int)\n",
    "df.head()"
   ]
  },
  {
   "cell_type": "code",
   "execution_count": 29,
   "metadata": {},
   "outputs": [
    {
     "name": "stdout",
     "output_type": "stream",
     "text": [
      "<class 'pandas.core.frame.DataFrame'>\n",
      "Int64Index: 17704 entries, 7129300520 to 1523300157\n",
      "Data columns (total 28 columns):\n",
      " #   Column               Non-Null Count  Dtype  \n",
      "---  ------               --------------  -----  \n",
      " 0   price                17704 non-null  float64\n",
      " 1   bedrooms             17704 non-null  int64  \n",
      " 2   bathrooms            17704 non-null  int64  \n",
      " 3   sqft_living          17704 non-null  int64  \n",
      " 4   sqft_lot             17704 non-null  int64  \n",
      " 5   floors               17704 non-null  int64  \n",
      " 6   waterfront           17704 non-null  float64\n",
      " 7   yr_built             17704 non-null  int64  \n",
      " 8   yr_renovated         17704 non-null  float64\n",
      " 9   sell_yr              17704 non-null  int64  \n",
      " 10  view_EXCELLENT       17704 non-null  int64  \n",
      " 11  view_FAIR            17704 non-null  int64  \n",
      " 12  view_GOOD            17704 non-null  int64  \n",
      " 13  view_NONE            17704 non-null  int64  \n",
      " 14  condition_Fair       17704 non-null  int64  \n",
      " 15  condition_Good       17704 non-null  int64  \n",
      " 16  condition_Poor       17704 non-null  int64  \n",
      " 17  condition_Very Good  17704 non-null  int64  \n",
      " 18  grade_Better         17704 non-null  int64  \n",
      " 19  grade_Excellent      17704 non-null  int64  \n",
      " 20  grade_Fair           17704 non-null  int64  \n",
      " 21  grade_Good           17704 non-null  int64  \n",
      " 22  grade_Low            17704 non-null  int64  \n",
      " 23  grade_LowAverage     17704 non-null  int64  \n",
      " 24  grade_Luxury         17704 non-null  int64  \n",
      " 25  grade_Mansion        17704 non-null  int64  \n",
      " 26  grade_Poor           17704 non-null  int64  \n",
      " 27  grade_VeryGood       17704 non-null  int64  \n",
      "dtypes: float64(3), int64(25)\n",
      "memory usage: 4.5 MB\n"
     ]
    }
   ],
   "source": [
    "df.info()"
   ]
  },
  {
   "cell_type": "code",
   "execution_count": 30,
   "metadata": {},
   "outputs": [
    {
     "data": {
      "text/plain": [
       "((17704, 27), (17704,))"
      ]
     },
     "execution_count": 30,
     "metadata": {},
     "output_type": "execute_result"
    }
   ],
   "source": [
    "# spliting the data into x and y\n",
    "X = df.drop('price', axis = 1)\n",
    "y = df['price']\n",
    "X.shape , y.shape"
   ]
  },
  {
   "cell_type": "code",
   "execution_count": 31,
   "metadata": {},
   "outputs": [
    {
     "name": "stdout",
     "output_type": "stream",
     "text": [
      "Training set shape:  (14163, 27) (14163,)\n",
      "Testing set shape:  (3541, 27) (3541,)\n"
     ]
    }
   ],
   "source": [
    "# Split the data into training and testing\n",
    "X_train, X_test ,y_train, y_test = train_test_split(X, y, test_size = 0.2, random_state = 42 )\n",
    "print(\"Training set shape: \", X_train.shape , y_train.shape)\n",
    "print(\"Testing set shape: \", X_test.shape, y_test.shape)"
   ]
  },
  {
   "cell_type": "code",
   "execution_count": 32,
   "metadata": {},
   "outputs": [],
   "source": [
    "# Create a basic linear regression model\n",
    "lr = LinearRegression()"
   ]
  },
  {
   "cell_type": "code",
   "execution_count": 33,
   "metadata": {},
   "outputs": [],
   "source": [
    "# Train the model on the training set\n",
    "model =lr.fit(X_train, y_train)"
   ]
  },
  {
   "cell_type": "code",
   "execution_count": 34,
   "metadata": {},
   "outputs": [
    {
     "data": {
      "text/plain": [
       "(3541,)"
      ]
     },
     "execution_count": 34,
     "metadata": {},
     "output_type": "execute_result"
    }
   ],
   "source": [
    "#Make predictions based on the training set\n",
    "y_predicted = lr.predict(X_test)\n",
    "y_predicted.shape"
   ]
  },
  {
   "cell_type": "code",
   "execution_count": 35,
   "metadata": {},
   "outputs": [
    {
     "name": "stdout",
     "output_type": "stream",
     "text": [
      "R_squared:  0.63294095371061\n",
      "MSE:  51731331281.42515\n",
      "MAE:  138025.63692848737\n",
      "intercept:  -39132123.255265504\n"
     ]
    }
   ],
   "source": [
    "# Evaluating the performance of the model\n",
    "\n",
    "R_squared = r2_score(y_test,y_predicted)\n",
    "MSE = mean_squared_error(y_test,y_predicted)\n",
    "MAE = mean_absolute_error(y_test,y_predicted)\n",
    "intercept = lr.intercept_\n",
    "\n",
    "print('R_squared: ', R_squared)\n",
    "print('MSE: ', MSE)\n",
    "print('MAE: ', MAE)\n",
    "print('intercept: ',intercept )"
   ]
  },
  {
   "cell_type": "code",
   "execution_count": 36,
   "metadata": {},
   "outputs": [
    {
     "data": {
      "image/png": "[encoded data removed]",
      "text/plain": [
       "<Figure size 432x288 with 1 Axes>"
      ]
     },
     "metadata": {},
     "output_type": "display_data"
    }
   ],
   "source": [
    "#Plot the model\n",
    "plt.scatter(y_test, y_predicted)\n",
    "plt.plot([y.min(), y.max()] ,[y.min(), y.max()] , color= 'black')\n",
    "plt.xlabel('Actual Values')\n",
    "plt.ylabel('Predicted values')\n",
    "plt.title('Actual Values vs Predicted values(Linear Regression)')\n",
    "\n",
    "plt.show()\n"
   ]
  },
  {
   "cell_type": "code",
   "execution_count": 37,
   "metadata": {},
   "outputs": [
    {
     "data": {
      "image/png": "[encoded data removed]",
      "text/plain": [
       "<Figure size 432x288 with 1 Axes>"
      ]
     },
     "metadata": {},
     "output_type": "display_data"
    }
   ],
   "source": [
    "# Plot the residuals\n",
    "\n",
    "fig, ax = plt.subplots()\n",
    "\n",
    "ax.scatter(y_predicted, y_test - y_predicted)\n",
    "ax.axhline(y=0, color=\"black\")\n",
    "ax.set_xlabel(\"Predicted Values\")\n",
    "ax.set_ylabel(\"Residuals\");"
   ]
  },
  {
   "cell_type": "markdown",
   "metadata": {},
   "source": [
    "## Analysis"
   ]
  },
  {
   "cell_type": "markdown",
   "metadata": {},
   "source": [
    "In our model, about 63% of the variance of the price can be explained by the all the factors in the dataset hence based on the fact our model is able to moderetely predict the price of a house given the above factors.\n",
    "\n",
    "When we plot the Actual values against the predicted values we can see that our model has a moderete fit as the points are somehow close to the line indicating a moderete linear relationship between the accurate values and the predicted values.\n",
    "\n",
    "When we plot the residuals we can still conclude that our model has a moderete fit as our points are somehow scattered around the zero line.\n"
   ]
  },
  {
   "cell_type": "markdown",
   "metadata": {},
   "source": [
    "## Baseline Model : Simple linear Regression"
   ]
  },
  {
   "cell_type": "markdown",
   "metadata": {},
   "source": [
    "Our target variable is price. We now look at the correlation coefficients for all of the predictor variables to find the one with the highest correlation with price. We will then use that predictor to build our baseline model"
   ]
  },
  {
   "cell_type": "code",
   "execution_count": 38,
   "metadata": {},
   "outputs": [
    {
     "data": {
      "text/plain": [
       "price           1.000000\n",
       "bedrooms        0.306229\n",
       "bathrooms       0.509650\n",
       "sqft_living     0.703204\n",
       "sqft_lot        0.086619\n",
       "floors          0.236302\n",
       "waterfront      0.262063\n",
       "yr_built        0.050399\n",
       "yr_renovated    0.129887\n",
       "sell_yr         0.002535\n",
       "Name: price, dtype: float64"
      ]
     },
     "execution_count": 38,
     "metadata": {},
     "output_type": "execute_result"
    }
   ],
   "source": [
    "# find the predictor variable with the highest correlation with price\n",
    "data.corr()['price']"
   ]
  },
  {
   "cell_type": "markdown",
   "metadata": {},
   "source": [
    "We have found out that the 'sqft_living' column has the highest co-effecient and we will use it to build our baseline model. We then initialize our X and Y variables for our simple regression model."
   ]
  },
  {
   "cell_type": "code",
   "execution_count": 39,
   "metadata": {},
   "outputs": [],
   "source": [
    "# Create a design matrix X and target variable y\n",
    "X = data[['sqft_living']]\n",
    "y = data['price']\n"
   ]
  },
  {
   "cell_type": "code",
   "execution_count": 41,
   "metadata": {},
   "outputs": [
    {
     "name": "stdout",
     "output_type": "stream",
     "text": [
      "                            OLS Regression Results                            \n",
      "==============================================================================\n",
      "Dep. Variable:                  price   R-squared:                       0.494\n",
      "Model:                            OLS   Adj. R-squared:                  0.494\n",
      "Method:                 Least Squares   F-statistic:                 1.732e+04\n",
      "Date:                Tue, 30 Apr 2024   Prob (F-statistic):               0.00\n",
      "Time:                        14:15:04   Log-Likelihood:            -2.4596e+05\n",
      "No. Observations:               17704   AIC:                         4.919e+05\n",
      "Df Residuals:                   17702   BIC:                         4.919e+05\n",
      "Df Model:                           1                                         \n",
      "Covariance Type:            nonrobust                                         \n",
      "===============================================================================\n",
      "                  coef    std err          t      P>|t|      [0.025      0.975]\n",
      "-------------------------------------------------------------------------------\n",
      "const       -4.731e+04   4878.907     -9.697      0.000   -5.69e+04   -3.77e+04\n",
      "sqft_living   282.0264      2.143    131.592      0.000     277.826     286.227\n",
      "==============================================================================\n",
      "Omnibus:                    12367.185   Durbin-Watson:                   1.967\n",
      "Prob(Omnibus):                  0.000   Jarque-Bera (JB):           490037.577\n",
      "Skew:                           2.873   Prob(JB):                         0.00\n",
      "Kurtosis:                      28.125   Cond. No.                     5.65e+03\n",
      "==============================================================================\n",
      "\n",
      "Notes:\n",
      "[1] Standard Errors assume that the covariance matrix of the errors is correctly specified.\n",
      "[2] The condition number is large, 5.65e+03. This might indicate that there are\n",
      "strong multicollinearity or other numerical problems.\n"
     ]
    }
   ],
   "source": [
    "# Library to be used in building the model\n",
    "import statsmodels.api as sm\n",
    "\n",
    "# Building the model\n",
    "baseline_model = sm.OLS(y, sm.add_constant(X))\n",
    "\n",
    "# fitting the model\n",
    "baseline_results = baseline_model.fit()\n",
    "\n",
    "# viewing the summary of the model\n",
    "print(baseline_results.summary())\n"
   ]
  },
  {
   "cell_type": "markdown",
   "metadata": {},
   "source": [
    "## Analysis"
   ]
  },
  {
   "cell_type": "markdown",
   "metadata": {},
   "source": [
    "Overall this base model is statistically significant and explains about 49% of the variance in price. \n",
    "\n",
    "* The intercept is at about -47.3k.\n",
    "* This means that home with 0 Square footage of living space  would have a price of -47.3k dollars.\n",
    "* The coefficient for Square footage of living space is about 282.\n",
    "* This means for each additional Square footage of living space, the sale price of the home will increase with about 282 dollars more."
   ]
  },
  {
   "cell_type": "code",
   "execution_count": 42,
   "metadata": {},
   "outputs": [
    {
     "data": {
      "text/plain": [
       "9090492497284.77"
      ]
     },
     "execution_count": 42,
     "metadata": {},
     "output_type": "execute_result"
    }
   ],
   "source": [
    "RMSE = ((baseline_results.resid ** 2).sum() / len(y) ** 0.5)\n",
    "RMSE"
   ]
  },
  {
   "cell_type": "markdown",
   "metadata": {},
   "source": [
    "#### Root Mean Squared Error(RMSE) Interpretation\n",
    "For this RMSE value in our model, it means that our model is off by a price of about 9090492497284 in a given prediction."
   ]
  },
  {
   "cell_type": "markdown",
   "metadata": {},
   "source": [
    "## Visualize The Model"
   ]
  },
  {
   "cell_type": "code",
   "execution_count": 44,
   "metadata": {},
   "outputs": [
    {
     "name": "stderr",
     "output_type": "stream",
     "text": [
      "*c* argument looks like a single numeric RGB or RGBA sequence, which should be avoided as value-mapping will have precedence in case its length matches with *x* & *y*.  Please use the *color* keyword-argument or provide a 2-D array with a single row if you intend to specify the same RGB or RGBA value for all points.\n"
     ]
    },
    {
     "data": {
      "image/png": "[encoded data removed]",
      "text/plain": [
       "<Figure size 432x288 with 1 Axes>"
      ]
     },
     "metadata": {},
     "output_type": "display_data"
    }
   ],
   "source": [
    "# Plot the model fit (scatter plot and regression line)\n",
    "fig, ax = plt.subplots()\n",
    "df.plot.scatter(x=\"sqft_living\", y=\"price\", label=\"Data points\", ax=ax)\n",
    "sm.graphics.abline_plot(model_results=baseline_results, label=\"Regression line\", ax=ax, color = 'black')\n",
    "ax.legend();"
   ]
  },
  {
   "cell_type": "markdown",
   "metadata": {},
   "source": [
    "## Multiple Linear Regression\n",
    "## Model 1\n",
    "Since we have our baseline model, we will then include other features that seem to have an inpact on the price for our model having multiple features.The features selected are listed below."
   ]
  },
  {
   "cell_type": "code",
   "execution_count": 45,
   "metadata": {},
   "outputs": [],
   "source": [
    "X_model1 = data[['bedrooms', 'bathrooms', 'sqft_living', 'sqft_lot', 'waterfront','floors', 'yr_built', 'yr_renovated']]"
   ]
  },
  {
   "cell_type": "markdown",
   "metadata": {},
   "source": [
    "We then build our first Multiple linear regression model based on these features, fit the model and get its summary"
   ]
  },
  {
   "cell_type": "code",
   "execution_count": 46,
   "metadata": {},
   "outputs": [
    {
     "name": "stdout",
     "output_type": "stream",
     "text": [
      "                            OLS Regression Results                            \n",
      "==============================================================================\n",
      "Dep. Variable:                  price   R-squared:                       0.588\n",
      "Model:                            OLS   Adj. R-squared:                  0.588\n",
      "Method:                 Least Squares   F-statistic:                     3159.\n",
      "Date:                Tue, 30 Apr 2024   Prob (F-statistic):               0.00\n",
      "Time:                        14:21:09   Log-Likelihood:            -2.4414e+05\n",
      "No. Observations:               17704   AIC:                         4.883e+05\n",
      "Df Residuals:                   17695   BIC:                         4.884e+05\n",
      "Df Model:                           8                                         \n",
      "Covariance Type:            nonrobust                                         \n",
      "================================================================================\n",
      "                   coef    std err          t      P>|t|      [0.025      0.975]\n",
      "--------------------------------------------------------------------------------\n",
      "const         6.168e+06   1.53e+05     40.321      0.000    5.87e+06    6.47e+06\n",
      "bedrooms     -5.916e+04   2369.111    -24.970      0.000   -6.38e+04   -5.45e+04\n",
      "bathrooms     6.329e+04   3707.196     17.072      0.000     5.6e+04    7.06e+04\n",
      "sqft_living    296.9789      3.012     98.602      0.000     291.075     302.883\n",
      "sqft_lot        -0.3104      0.043     -7.199      0.000      -0.395      -0.226\n",
      "waterfront    7.561e+05   2.19e+04     34.536      0.000    7.13e+05    7.99e+05\n",
      "floors        5.319e+04   4217.185     12.613      0.000    4.49e+04    6.15e+04\n",
      "yr_built     -3163.7835     79.456    -39.818      0.000   -3319.526   -3008.041\n",
      "yr_renovated    12.9784      4.660      2.785      0.005       3.844      22.113\n",
      "==============================================================================\n",
      "Omnibus:                    10625.148   Durbin-Watson:                   1.977\n",
      "Prob(Omnibus):                  0.000   Jarque-Bera (JB):           359044.067\n",
      "Skew:                           2.330   Prob(JB):                         0.00\n",
      "Kurtosis:                      24.564   Cond. No.                     3.86e+06\n",
      "==============================================================================\n",
      "\n",
      "Notes:\n",
      "[1] Standard Errors assume that the covariance matrix of the errors is correctly specified.\n",
      "[2] The condition number is large, 3.86e+06. This might indicate that there are\n",
      "strong multicollinearity or other numerical problems.\n"
     ]
    }
   ],
   "source": [
    "model1 = sm.OLS(y, sm.add_constant(X_model1))\n",
    "results1 = model1.fit()\n",
    "print(results1.summary())"
   ]
  },
  {
   "cell_type": "markdown",
   "metadata": {},
   "source": [
    "## Interpreting the model results\n",
    "Overally the model performed marginally better. It explained 58.8% rather than 49% of the\n",
    "variance in price.\n",
    "All of the coefficients are statistically significant  with an F-statistic and t-statistic p-values well below 0.05\n",
    "\n",
    "* The intercept is at about 6168000. Meaning when all features are at a 0 ath the year 1900, the price of a home will be 6168000.\n",
    "* For each increase of 1 in number of bedrooms, we see an associated decrease in salePrice of about 59160\n",
    "* For each increase of 1 in number of bathrooms, we see an associated increase in salePrice of about 63290\n",
    "* For each increase of 1 Square footage of living space, we see an associated increase in salePrice of about 297\n",
    "* For each increase of 1 Square footage of lot space, we see an associated negligable decrease in salePrice\n",
    "* The presence of a waterfront increase in salePrice with about 756100\n",
    "* For each increase of a floor, we see an associated increase in salePrice of about 53190\n",
    "* For each year after the year built, we see an associated decrease in salePrice of about 3163\n",
    "* For each year a house is renovated there is an associated increase in salePrice of about 12"
   ]
  },
  {
   "cell_type": "code",
   "execution_count": 47,
   "metadata": {},
   "outputs": [
    {
     "data": {
      "text/plain": [
       "235926.6751450893"
      ]
     },
     "execution_count": 47,
     "metadata": {},
     "output_type": "execute_result"
    }
   ],
   "source": [
    "RMSE = ((results1.resid ** 2).sum() / len(y)) ** 0.5\n",
    "RMSE"
   ]
  },
  {
   "cell_type": "markdown",
   "metadata": {},
   "source": [
    "#### Root Mean Squared Error(RMSE) Interpretation\n",
    "For this RMSE value in our model, it means that our model is off by a price of about 235926 in a given prediction."
   ]
  },
  {
   "cell_type": "markdown",
   "metadata": {},
   "source": [
    "## Adding Categorical features to the model: \n",
    "## Model 2\n",
    "For now the model is behaving quite well with the numerical features we included. We now include some categorical features to see if the model can perform any better.<br>\n",
    "We add the `condition` to see if it will have an impact on the price of the home."
   ]
  },
  {
   "cell_type": "code",
   "execution_count": 48,
   "metadata": {},
   "outputs": [],
   "source": [
    "X_model2 = data[['bedrooms', 'bathrooms', 'sqft_living', 'sqft_lot', 'floors',\n",
    "       'waterfront', 'yr_built', 'yr_renovated','condition']]\n"
   ]
  },
  {
   "cell_type": "markdown",
   "metadata": {},
   "source": [
    "### One-hot encoding categorical columns\n",
    "When dealing with categorical features we have to create dummy variables, using one-hot encoding, that contain integer values that can be used by our model. Since we have only one categorical feature, we will perform one-hot encoding to that column only.<br>\n",
    "We also need to drop the first column of the dummy variable so that it can be used as a reference variable in the interpretation of results of the model"
   ]
  },
  {
   "cell_type": "code",
   "execution_count": 49,
   "metadata": {},
   "outputs": [],
   "source": [
    "# creating dummy variables of the condition column and dropping its first dummy column\n",
    "X_two = pd.get_dummies(X_model2, columns=['condition'], drop_first=True)\n"
   ]
  },
  {
   "cell_type": "code",
   "execution_count": 50,
   "metadata": {},
   "outputs": [
    {
     "data": {
      "text/html": [
       "<div>\n",
       "<style scoped>\n",
       "    .dataframe tbody tr th:only-of-type {\n",
       "        vertical-align: middle;\n",
       "    }\n",
       "\n",
       "    .dataframe tbody tr th {\n",
       "        vertical-align: top;\n",
       "    }\n",
       "\n",
       "    .dataframe thead th {\n",
       "        text-align: right;\n",
       "    }\n",
       "</style>\n",
       "<table border=\"1\" class=\"dataframe\">\n",
       "  <thead>\n",
       "    <tr style=\"text-align: right;\">\n",
       "      <th></th>\n",
       "      <th>bedrooms</th>\n",
       "      <th>bathrooms</th>\n",
       "      <th>sqft_living</th>\n",
       "      <th>sqft_lot</th>\n",
       "      <th>floors</th>\n",
       "      <th>waterfront</th>\n",
       "      <th>yr_built</th>\n",
       "      <th>yr_renovated</th>\n",
       "      <th>condition_Fair</th>\n",
       "      <th>condition_Good</th>\n",
       "      <th>condition_Poor</th>\n",
       "      <th>condition_VeryGood</th>\n",
       "    </tr>\n",
       "    <tr>\n",
       "      <th>id</th>\n",
       "      <th></th>\n",
       "      <th></th>\n",
       "      <th></th>\n",
       "      <th></th>\n",
       "      <th></th>\n",
       "      <th></th>\n",
       "      <th></th>\n",
       "      <th></th>\n",
       "      <th></th>\n",
       "      <th></th>\n",
       "      <th></th>\n",
       "      <th></th>\n",
       "    </tr>\n",
       "  </thead>\n",
       "  <tbody>\n",
       "    <tr>\n",
       "      <th>7129300520</th>\n",
       "      <td>3</td>\n",
       "      <td>1</td>\n",
       "      <td>1180</td>\n",
       "      <td>5650</td>\n",
       "      <td>1</td>\n",
       "      <td>0.0</td>\n",
       "      <td>1955</td>\n",
       "      <td>0.0</td>\n",
       "      <td>0</td>\n",
       "      <td>0</td>\n",
       "      <td>0</td>\n",
       "      <td>0</td>\n",
       "    </tr>\n",
       "    <tr>\n",
       "      <th>6414100192</th>\n",
       "      <td>3</td>\n",
       "      <td>2</td>\n",
       "      <td>2570</td>\n",
       "      <td>7242</td>\n",
       "      <td>2</td>\n",
       "      <td>0.0</td>\n",
       "      <td>1951</td>\n",
       "      <td>1991.0</td>\n",
       "      <td>0</td>\n",
       "      <td>0</td>\n",
       "      <td>0</td>\n",
       "      <td>0</td>\n",
       "    </tr>\n",
       "    <tr>\n",
       "      <th>2487200875</th>\n",
       "      <td>4</td>\n",
       "      <td>3</td>\n",
       "      <td>1960</td>\n",
       "      <td>5000</td>\n",
       "      <td>1</td>\n",
       "      <td>0.0</td>\n",
       "      <td>1965</td>\n",
       "      <td>0.0</td>\n",
       "      <td>0</td>\n",
       "      <td>0</td>\n",
       "      <td>0</td>\n",
       "      <td>1</td>\n",
       "    </tr>\n",
       "    <tr>\n",
       "      <th>1954400510</th>\n",
       "      <td>3</td>\n",
       "      <td>2</td>\n",
       "      <td>1680</td>\n",
       "      <td>8080</td>\n",
       "      <td>1</td>\n",
       "      <td>0.0</td>\n",
       "      <td>1987</td>\n",
       "      <td>0.0</td>\n",
       "      <td>0</td>\n",
       "      <td>0</td>\n",
       "      <td>0</td>\n",
       "      <td>0</td>\n",
       "    </tr>\n",
       "    <tr>\n",
       "      <th>7237550310</th>\n",
       "      <td>4</td>\n",
       "      <td>4</td>\n",
       "      <td>5420</td>\n",
       "      <td>101930</td>\n",
       "      <td>1</td>\n",
       "      <td>0.0</td>\n",
       "      <td>2001</td>\n",
       "      <td>0.0</td>\n",
       "      <td>0</td>\n",
       "      <td>0</td>\n",
       "      <td>0</td>\n",
       "      <td>0</td>\n",
       "    </tr>\n",
       "    <tr>\n",
       "      <th>...</th>\n",
       "      <td>...</td>\n",
       "      <td>...</td>\n",
       "      <td>...</td>\n",
       "      <td>...</td>\n",
       "      <td>...</td>\n",
       "      <td>...</td>\n",
       "      <td>...</td>\n",
       "      <td>...</td>\n",
       "      <td>...</td>\n",
       "      <td>...</td>\n",
       "      <td>...</td>\n",
       "      <td>...</td>\n",
       "    </tr>\n",
       "    <tr>\n",
       "      <th>263000018</th>\n",
       "      <td>3</td>\n",
       "      <td>2</td>\n",
       "      <td>1530</td>\n",
       "      <td>1131</td>\n",
       "      <td>3</td>\n",
       "      <td>0.0</td>\n",
       "      <td>2009</td>\n",
       "      <td>0.0</td>\n",
       "      <td>0</td>\n",
       "      <td>0</td>\n",
       "      <td>0</td>\n",
       "      <td>0</td>\n",
       "    </tr>\n",
       "    <tr>\n",
       "      <th>6600060120</th>\n",
       "      <td>4</td>\n",
       "      <td>2</td>\n",
       "      <td>2310</td>\n",
       "      <td>5813</td>\n",
       "      <td>2</td>\n",
       "      <td>0.0</td>\n",
       "      <td>2014</td>\n",
       "      <td>0.0</td>\n",
       "      <td>0</td>\n",
       "      <td>0</td>\n",
       "      <td>0</td>\n",
       "      <td>0</td>\n",
       "    </tr>\n",
       "    <tr>\n",
       "      <th>1523300141</th>\n",
       "      <td>2</td>\n",
       "      <td>0</td>\n",
       "      <td>1020</td>\n",
       "      <td>1350</td>\n",
       "      <td>2</td>\n",
       "      <td>0.0</td>\n",
       "      <td>2009</td>\n",
       "      <td>0.0</td>\n",
       "      <td>0</td>\n",
       "      <td>0</td>\n",
       "      <td>0</td>\n",
       "      <td>0</td>\n",
       "    </tr>\n",
       "    <tr>\n",
       "      <th>291310100</th>\n",
       "      <td>3</td>\n",
       "      <td>2</td>\n",
       "      <td>1600</td>\n",
       "      <td>2388</td>\n",
       "      <td>2</td>\n",
       "      <td>0.0</td>\n",
       "      <td>2004</td>\n",
       "      <td>0.0</td>\n",
       "      <td>0</td>\n",
       "      <td>0</td>\n",
       "      <td>0</td>\n",
       "      <td>0</td>\n",
       "    </tr>\n",
       "    <tr>\n",
       "      <th>1523300157</th>\n",
       "      <td>2</td>\n",
       "      <td>0</td>\n",
       "      <td>1020</td>\n",
       "      <td>1076</td>\n",
       "      <td>2</td>\n",
       "      <td>0.0</td>\n",
       "      <td>2008</td>\n",
       "      <td>0.0</td>\n",
       "      <td>0</td>\n",
       "      <td>0</td>\n",
       "      <td>0</td>\n",
       "      <td>0</td>\n",
       "    </tr>\n",
       "  </tbody>\n",
       "</table>\n",
       "<p>17704 rows × 12 columns</p>\n",
       "</div>"
      ],
      "text/plain": [
       "            bedrooms  bathrooms  sqft_living  sqft_lot  floors  waterfront  \\\n",
       "id                                                                           \n",
       "7129300520         3          1         1180      5650       1         0.0   \n",
       "6414100192         3          2         2570      7242       2         0.0   \n",
       "2487200875         4          3         1960      5000       1         0.0   \n",
       "1954400510         3          2         1680      8080       1         0.0   \n",
       "7237550310         4          4         5420    101930       1         0.0   \n",
       "...              ...        ...          ...       ...     ...         ...   \n",
       "263000018          3          2         1530      1131       3         0.0   \n",
       "6600060120         4          2         2310      5813       2         0.0   \n",
       "1523300141         2          0         1020      1350       2         0.0   \n",
       "291310100          3          2         1600      2388       2         0.0   \n",
       "1523300157         2          0         1020      1076       2         0.0   \n",
       "\n",
       "            yr_built  yr_renovated  condition_Fair  condition_Good  \\\n",
       "id                                                                   \n",
       "7129300520      1955           0.0               0               0   \n",
       "6414100192      1951        1991.0               0               0   \n",
       "2487200875      1965           0.0               0               0   \n",
       "1954400510      1987           0.0               0               0   \n",
       "7237550310      2001           0.0               0               0   \n",
       "...              ...           ...             ...             ...   \n",
       "263000018       2009           0.0               0               0   \n",
       "6600060120      2014           0.0               0               0   \n",
       "1523300141      2009           0.0               0               0   \n",
       "291310100       2004           0.0               0               0   \n",
       "1523300157      2008           0.0               0               0   \n",
       "\n",
       "            condition_Poor  condition_VeryGood  \n",
       "id                                              \n",
       "7129300520               0                   0  \n",
       "6414100192               0                   0  \n",
       "2487200875               0                   1  \n",
       "1954400510               0                   0  \n",
       "7237550310               0                   0  \n",
       "...                    ...                 ...  \n",
       "263000018                0                   0  \n",
       "6600060120               0                   0  \n",
       "1523300141               0                   0  \n",
       "291310100                0                   0  \n",
       "1523300157               0                   0  \n",
       "\n",
       "[17704 rows x 12 columns]"
      ]
     },
     "execution_count": 50,
     "metadata": {},
     "output_type": "execute_result"
    }
   ],
   "source": [
    "# removing the space in the column names to make them more understandable\n",
    "X_two.columns = X_two.columns.str.replace(' ', '')\n",
    "X_two"
   ]
  },
  {
   "cell_type": "markdown",
   "metadata": {},
   "source": [
    "After encoding the categorical columns we then get back to building the model, fitting it and interpreting its results"
   ]
  },
  {
   "cell_type": "code",
   "execution_count": 51,
   "metadata": {},
   "outputs": [
    {
     "name": "stdout",
     "output_type": "stream",
     "text": [
      "                            OLS Regression Results                            \n",
      "==============================================================================\n",
      "Dep. Variable:                  price   R-squared:                       0.589\n",
      "Model:                            OLS   Adj. R-squared:                  0.589\n",
      "Method:                 Least Squares   F-statistic:                     2115.\n",
      "Date:                Tue, 30 Apr 2024   Prob (F-statistic):               0.00\n",
      "Time:                        14:29:11   Log-Likelihood:            -2.4412e+05\n",
      "No. Observations:               17704   AIC:                         4.883e+05\n",
      "Df Residuals:                   17691   BIC:                         4.884e+05\n",
      "Df Model:                          12                                         \n",
      "Covariance Type:            nonrobust                                         \n",
      "======================================================================================\n",
      "                         coef    std err          t      P>|t|      [0.025      0.975]\n",
      "--------------------------------------------------------------------------------------\n",
      "const               5.879e+06   1.62e+05     36.188      0.000    5.56e+06     6.2e+06\n",
      "bedrooms            -5.99e+04   2369.261    -25.282      0.000   -6.45e+04   -5.53e+04\n",
      "bathrooms           6.213e+04   3713.149     16.732      0.000    5.49e+04    6.94e+04\n",
      "sqft_living          296.4294      3.011     98.452      0.000     290.528     302.331\n",
      "sqft_lot              -0.3039      0.043     -7.044      0.000      -0.388      -0.219\n",
      "floors              5.546e+04   4253.067     13.041      0.000    4.71e+04    6.38e+04\n",
      "waterfront          7.545e+05   2.19e+04     34.492      0.000    7.12e+05    7.97e+05\n",
      "yr_built           -3019.6403     83.928    -35.979      0.000   -3184.148   -2855.133\n",
      "yr_renovated          17.2284      4.727      3.645      0.000       7.963      26.494\n",
      "condition_Fair     -4.951e+04   1.99e+04     -2.482      0.013   -8.86e+04   -1.04e+04\n",
      "condition_Good      1.311e+04   4449.683      2.946      0.003    4385.616    2.18e+04\n",
      "condition_Poor     -6.245e+04   4.93e+04     -1.266      0.205   -1.59e+05    3.42e+04\n",
      "condition_VeryGood  4.282e+04   7111.824      6.021      0.000    2.89e+04    5.68e+04\n",
      "==============================================================================\n",
      "Omnibus:                    10701.460   Durbin-Watson:                   1.978\n",
      "Prob(Omnibus):                  0.000   Jarque-Bera (JB):           368079.052\n",
      "Skew:                           2.349   Prob(JB):                         0.00\n",
      "Kurtosis:                      24.838   Cond. No.                     4.11e+06\n",
      "==============================================================================\n",
      "\n",
      "Notes:\n",
      "[1] Standard Errors assume that the covariance matrix of the errors is correctly specified.\n",
      "[2] The condition number is large, 4.11e+06. This might indicate that there are\n",
      "strong multicollinearity or other numerical problems.\n"
     ]
    }
   ],
   "source": [
    "model2 = sm.OLS(y, sm.add_constant(X_two))\n",
    "results2 = model2.fit()\n",
    "print(results2.summary())"
   ]
  },
  {
   "cell_type": "markdown",
   "metadata": {},
   "source": [
    "## Interpreting the model results\n",
    "The model explained 58.9%  of the variance in price which is just similar to the previous model.\n",
    "The Model is statistically significant  with an F-statistic well below a significance level of 0.05\n",
    "Most of the coefficients are statistically significant apart from `condition_poor` which has a pvalue of 0.205\n",
    "\n",
    "The reference category for condition is `condition_average`.\n",
    "The interpretation of the results of the categorical column are as follows\n",
    "* For a home having a fair condition compared to a home with average condition, we see an associated decrease in price of about 49510\n",
    "* For a home having a good condition compared to a home with average condition, we see an associated increase in price of about 13110\n",
    "* For a home having a very good condition compared to a home with average condition, we see an associated increase in price of about 42820.<br>\n",
    "We did include the homes with poor conditions since it was not statistically significant at a significance level of 0.05\n",
    "\n"
   ]
  },
  {
   "cell_type": "code",
   "execution_count": 52,
   "metadata": {},
   "outputs": [
    {
     "data": {
      "text/plain": [
       "235598.03527158155"
      ]
     },
     "execution_count": 52,
     "metadata": {},
     "output_type": "execute_result"
    }
   ],
   "source": [
    "RMSE = ((results2.resid ** 2).sum() / len(y)) ** 0.5\n",
    "RMSE"
   ]
  },
  {
   "cell_type": "markdown",
   "metadata": {},
   "source": [
    "#### Root Mean Squared Error(RMSE) Interpretation\n",
    "For this RMSE value in our model, it means that our model is off by a price of about 235598 in a given prediction."
   ]
  },
  {
   "cell_type": "markdown",
   "metadata": {},
   "source": [
    "## Model 3 with `grade`\n",
    "This model doesnt have any change as compared to the previous model, we surely need to improve this model in order to get a better performing model. We decided to use the `grade` feature in place of the condition to get which is a better feature to be used."
   ]
  },
  {
   "cell_type": "code",
   "execution_count": 53,
   "metadata": {},
   "outputs": [],
   "source": [
    "X_model3 = data[['bedrooms', 'bathrooms', 'sqft_living', 'sqft_lot', 'floors',\n",
    "                 'waterfront', 'yr_built', 'yr_renovated','grade']]"
   ]
  },
  {
   "cell_type": "markdown",
   "metadata": {},
   "source": [
    "We then go ahead and do some cleaning on the grade columnn so as to make it more understandable. When we try to do value counts in the grade column, we see that its values have a mixture of numbers and words. We want to remove the numbers and remain with the words for easier understanding and interpretation."
   ]
  },
  {
   "cell_type": "code",
   "execution_count": 54,
   "metadata": {},
   "outputs": [
    {
     "data": {
      "text/plain": [
       "Average       7338\n",
       "Good          4979\n",
       "Better        2168\n",
       "LowAverage    1674\n",
       "VeryGood       930\n",
       "Excellent      324\n",
       "Fair           190\n",
       "Luxury          71\n",
       "Low             18\n",
       "Mansion         11\n",
       "Poor             1\n",
       "Name: grade, dtype: int64"
      ]
     },
     "execution_count": 54,
     "metadata": {},
     "output_type": "execute_result"
    }
   ],
   "source": [
    "data['grade'].value_counts()"
   ]
  },
  {
   "cell_type": "markdown",
   "metadata": {},
   "source": [
    "We the one-hot encode the `grade` column."
   ]
  },
  {
   "cell_type": "code",
   "execution_count": 55,
   "metadata": {},
   "outputs": [],
   "source": [
    "X_three = pd.get_dummies(X_model3, columns=['grade'], drop_first=True)"
   ]
  },
  {
   "cell_type": "markdown",
   "metadata": {},
   "source": [
    "#### Create the model"
   ]
  },
  {
   "cell_type": "code",
   "execution_count": 56,
   "metadata": {},
   "outputs": [
    {
     "name": "stdout",
     "output_type": "stream",
     "text": [
      "                            OLS Regression Results                            \n",
      "==============================================================================\n",
      "Dep. Variable:                  price   R-squared:                       0.669\n",
      "Model:                            OLS   Adj. R-squared:                  0.669\n",
      "Method:                 Least Squares   F-statistic:                     1987.\n",
      "Date:                Tue, 30 Apr 2024   Prob (F-statistic):               0.00\n",
      "Time:                        14:41:08   Log-Likelihood:            -2.4220e+05\n",
      "No. Observations:               17704   AIC:                         4.844e+05\n",
      "Df Residuals:                   17685   BIC:                         4.846e+05\n",
      "Df Model:                          18                                         \n",
      "Covariance Type:            nonrobust                                         \n",
      "====================================================================================\n",
      "                       coef    std err          t      P>|t|      [0.025      0.975]\n",
      "------------------------------------------------------------------------------------\n",
      "const             7.115e+06   1.43e+05     49.743      0.000    6.83e+06    7.39e+06\n",
      "bedrooms         -2.659e+04   2206.262    -12.052      0.000   -3.09e+04   -2.23e+04\n",
      "bathrooms         5.261e+04   3335.205     15.774      0.000    4.61e+04    5.91e+04\n",
      "sqft_living        153.5781      3.529     43.524      0.000     146.662     160.495\n",
      "sqft_lot            -0.2745      0.039     -7.083      0.000      -0.350      -0.199\n",
      "floors            2.256e+04   3884.072      5.809      0.000    1.49e+04    3.02e+04\n",
      "waterfront         7.36e+05   1.97e+04     37.424      0.000    6.97e+05    7.75e+05\n",
      "yr_built         -3560.4006     73.806    -48.240      0.000   -3705.068   -3415.733\n",
      "yr_renovated        17.3870      4.193      4.147      0.000       9.169      25.605\n",
      "grade_Better       2.37e+05   6492.137     36.506      0.000    2.24e+05     2.5e+05\n",
      "grade_Excellent   6.736e+05   1.46e+04     46.091      0.000    6.45e+05    7.02e+05\n",
      "grade_Fair       -1.434e+05   1.58e+04     -9.072      0.000   -1.74e+05   -1.12e+05\n",
      "grade_Good        9.697e+04   4363.765     22.222      0.000    8.84e+04    1.06e+05\n",
      "grade_Low        -1.212e+05   5.01e+04     -2.420      0.016   -2.19e+05    -2.3e+04\n",
      "grade_LowAverage -9.015e+04   6064.547    -14.865      0.000   -1.02e+05   -7.83e+04\n",
      "grade_Luxury      1.141e+06   2.78e+04     40.966      0.000    1.09e+06     1.2e+06\n",
      "grade_Mansion     2.275e+06    6.6e+04     34.471      0.000    2.15e+06     2.4e+06\n",
      "grade_Poor       -8.892e+04   2.12e+05     -0.420      0.674   -5.04e+05    3.26e+05\n",
      "grade_VeryGood    4.164e+05   9334.852     44.610      0.000    3.98e+05    4.35e+05\n",
      "==============================================================================\n",
      "Omnibus:                    10178.371   Durbin-Watson:                   1.972\n",
      "Prob(Omnibus):                  0.000   Jarque-Bera (JB):           349460.879\n",
      "Skew:                           2.181   Prob(JB):                         0.00\n",
      "Kurtosis:                      24.324   Cond. No.                     5.96e+06\n",
      "==============================================================================\n",
      "\n",
      "Notes:\n",
      "[1] Standard Errors assume that the covariance matrix of the errors is correctly specified.\n",
      "[2] The condition number is large, 5.96e+06. This might indicate that there are\n",
      "strong multicollinearity or other numerical problems.\n"
     ]
    }
   ],
   "source": [
    "model3 = sm.OLS(y, sm.add_constant(X_three))\n",
    "results3 = model3.fit()\n",
    "print(results3.summary())"
   ]
  },
  {
   "cell_type": "markdown",
   "metadata": {},
   "source": [
    "## Interpreting the model results\n",
    "The model explained 66.9%  of the variance in price which is a better performance as compared to the previous model.\n",
    "The Model is statistically significant  with an F-statistic well below a significance level of 0.05.\n",
    "All of the coefficients are statistically significant with pvalues way below the significance level.\n",
    "\n",
    "The reference category for `grade` is `grade_Average`.\n",
    "The interpretation of the results of the `grade` categorical column are in comparison to the reference column, `grade_10VeryGood`.\n",
    "Homes having a grade above the average grade have an associated increase in price while those that have a grade lower than the average ave an associated decrease in price.<br>\n",
    "* For a home having a Better grade compared to a home with a Average grade, we see an associated increase in price of about 237000.\n",
    "* For a home having a fair grade compared to a home with a Average grade, we see an associated decrease in price of about 143400.<br>\n"
   ]
  },
  {
   "cell_type": "code",
   "execution_count": 57,
   "metadata": {},
   "outputs": [
    {
     "data": {
      "text/plain": [
       "211466.87900318124"
      ]
     },
     "execution_count": 57,
     "metadata": {},
     "output_type": "execute_result"
    }
   ],
   "source": [
    "RMSE = ((results3.resid ** 2).sum() / len(y)) ** 0.5\n",
    "RMSE"
   ]
  },
  {
   "cell_type": "markdown",
   "metadata": {},
   "source": [
    "#### Root Mean Squared Error(RMSE) Interpretation\n",
    "For this RMSE value in our model, it means that our model is off by a price of about 211466 in a given prediction."
   ]
  }
 ],
 "metadata": {
  "kernelspec": {
   "display_name": "Python (learn-env)",
   "language": "python",
   "name": "learn-env"
  },
  "language_info": {
   "codemirror_mode": {
    "name": "ipython",
    "version": 3
   },
   "file_extension": ".py",
   "mimetype": "text/x-python",
   "name": "python",
   "nbconvert_exporter": "python",
   "pygments_lexer": "ipython3",
   "version": "3.8.5"
  }
 },
 "nbformat": 4,
 "nbformat_minor": 4
}
